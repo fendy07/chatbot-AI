{
  "cells": [
    {
      "cell_type": "markdown",
      "metadata": {
        "id": "view-in-github",
        "colab_type": "text"
      },
      "source": [
        "<a href=\"https://colab.research.google.com/github/fendy07/chatbot-AI/blob/master/DL_Chatbot.ipynb\" target=\"_parent\"><img src=\"https://colab.research.google.com/assets/colab-badge.svg\" alt=\"Open In Colab\"/></a>"
      ]
    },
    {
      "cell_type": "markdown",
      "id": "d18e160a",
      "metadata": {
        "id": "d18e160a"
      },
      "source": [
        "# **Chatbot With Neural Network**\n",
        "\n",
        "<b>Chatbot</b> merupakan bagian dari Natural Language Processing yang digunakan untuk percakapan dengan pengguna melalui teks dan ucapan. Pada praktik hari ini kita akan membuat sebuah chat otomatis atau chatbot tentang program Kampus Merdeka dari Kementerian Pendidikan Kebudayaan Riset dan Teknologi (KEMENDIKBUDRISTEK). \n",
        "\n",
        "Dalam tahapan Chatbot ini ada tahapan yang harus kita perhatikan yaitu,\n",
        "\n",
        "1. Import Library\n",
        "2. Load Dataset\n",
        "3. Preprocessing Data\n",
        "4. Input Length, Output Length and Vocabulary\n",
        "5. Neural Network Model\n",
        "6. Model Analysis\n",
        "7. Testing\n",
        "8. Save Model\n",
        "\n",
        "Dalam proyek ini, kita akan membuat chatbot tentang program Kampus Merdeka!\n",
        "\n",
        "Sumber code: [Medium - Going Merry With Tensorflow 2.0](https://medium.com/analytics-vidhya/chatbot-with-tensorflow-2-0-going-merry-2f79284a6104)"
      ]
    },
    {
      "cell_type": "markdown",
      "source": [
        "## **Download Dataset From GitHub**\n",
        "\n",
        "Setelah kita mengetahui apa saja alur yang digunakan untuk membuat proyek AI Chatbot maka tahapan selanjutnya adalah mengunduh atau download dataset dari GitHub milik Fendy Hendriyanto pada bagian repository AI Chatbot. Link: [Chatbot-AI](https://github.com/fendy07/chatbot-AI)"
      ],
      "metadata": {
        "id": "xaowz3BO9B8l"
      },
      "id": "xaowz3BO9B8l"
    },
    {
      "cell_type": "code",
      "source": [
        "# Download kampus_merdeka.json\n",
        "from urllib import request\n",
        "url = \"https://raw.githubusercontent.com/fendy07/chatbot-AI/master/kampus_merdeka.json\"\n",
        "request.urlretrieve(url, \"kampus_merdeka.json\")"
      ],
      "metadata": {
        "colab": {
          "base_uri": "https://localhost:8080/"
        },
        "id": "QEn68nGv9k5e",
        "outputId": "a42aba84-f4da-41a2-df05-dbe1416e5dd1"
      },
      "id": "QEn68nGv9k5e",
      "execution_count": 1,
      "outputs": [
        {
          "output_type": "execute_result",
          "data": {
            "text/plain": [
              "('kampus_merdeka.json', <http.client.HTTPMessage at 0x7fc5755ddc90>)"
            ]
          },
          "metadata": {},
          "execution_count": 1
        }
      ]
    },
    {
      "cell_type": "markdown",
      "source": [
        "# **Load Google Drive**\n",
        "\n",
        "Setelah kita mengunduh dataset dengan library request url dari link yang kita ketahui maka kita akan menyimpan file data yang kita download di Google Drive dengan dengan cara klik pada menu \"**Mount Drive**\" maka akan keluar code dibawah ini.\n",
        "\n",
        "**Notes:** Mohon dirunning terlebih dahulu\n"
      ],
      "metadata": {
        "id": "QRVBAWzMXnGf"
      },
      "id": "QRVBAWzMXnGf"
    },
    {
      "cell_type": "code",
      "source": [
        "from google.colab import drive\n",
        "drive.mount('/content/drive')"
      ],
      "metadata": {
        "colab": {
          "base_uri": "https://localhost:8080/"
        },
        "id": "kXBRl7ZqXlGD",
        "outputId": "add0d532-4d08-42ff-fe57-c2d83436c7f0"
      },
      "id": "kXBRl7ZqXlGD",
      "execution_count": 2,
      "outputs": [
        {
          "output_type": "stream",
          "name": "stdout",
          "text": [
            "Mounted at /content/drive\n"
          ]
        }
      ]
    },
    {
      "cell_type": "markdown",
      "source": [
        "Setelah dirunning maka ada notifikasi untuk **Permit this notebook to your access Google Drive** lalu pilih izinkan dan akan diproses ke dalam login akun google kita dan pilih izinkan dan akan keluar seperti gambar dibawah ini.\n",
        "\n",
        "![image.png](data:image/png;base64,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)"
      ],
      "metadata": {
        "id": "oJUGMIl6AnKl"
      },
      "id": "oJUGMIl6AnKl"
    },
    {
      "cell_type": "markdown",
      "source": [
        "## **Instalasi Library Pengenal Suara**\n",
        "\n",
        "Instalasi package sangat diperlukan ketika kita membutuhkan suatu fitur atau library yang akan kita gunakan. Pada proyek AI Chatbot membutuhkan package library yaitu **Speech Recognition** dan **Google Text To Speech** yang harus di install."
      ],
      "metadata": {
        "id": "9ZsdBYNrTfgg"
      },
      "id": "9ZsdBYNrTfgg"
    },
    {
      "cell_type": "code",
      "source": [
        "!pip -q install speechrecognition"
      ],
      "metadata": {
        "colab": {
          "base_uri": "https://localhost:8080/"
        },
        "id": "Q2lOz2OmFhsz",
        "outputId": "c77baa95-8912-4a49-b071-1d0021f760f7"
      },
      "id": "Q2lOz2OmFhsz",
      "execution_count": 3,
      "outputs": [
        {
          "output_type": "stream",
          "name": "stdout",
          "text": [
            "\u001b[K     |████████████████████████████████| 32.8 MB 1.5 MB/s \n",
            "\u001b[?25h"
          ]
        }
      ]
    },
    {
      "cell_type": "code",
      "source": [
        "!pip -q install gtts"
      ],
      "metadata": {
        "id": "OcZ28yqJFcR8"
      },
      "id": "OcZ28yqJFcR8",
      "execution_count": 4,
      "outputs": []
    },
    {
      "cell_type": "markdown",
      "source": [
        "# **Import Library**\n",
        "\n",
        "Tahapan pertama sebelum melakukan eksplorasi dan praproses pada data adalah memasukan library yang akan digunakan untuk menganalisa dataset dengan menggunakan metode Deep Learning seperti Neural Network dalam pengolahan teks, Chatbot dll. Library yang saya gunakan yaitu NumPy untuk komputasi matematika, Matplotlib untuk visualisasi model data, Natural Language Toolkit atau NLTK untuk pengolahan teks, Pandas untuk membaca data, serta Tensorflow untuk model pada data menggunakan algoritma LSTM dan Jaringan Syaraf Tiruan (Neural Network)."
      ],
      "metadata": {
        "id": "MZMVLNyqYTCK"
      },
      "id": "MZMVLNyqYTCK"
    },
    {
      "cell_type": "code",
      "execution_count": 5,
      "id": "df6e6af3",
      "metadata": {
        "id": "df6e6af3"
      },
      "outputs": [],
      "source": [
        "# Import Libraries\n",
        "import json\n",
        "import nltk\n",
        "import time\n",
        "import random\n",
        "import string\n",
        "import pickle\n",
        "import numpy as np\n",
        "import pandas as pd\n",
        "from gtts import gTTS\n",
        "from io import BytesIO\n",
        "import tensorflow as tf\n",
        "import IPython.display as ipd\n",
        "import speech_recognition as sr \n",
        "import matplotlib.pyplot as plt\n",
        "from nltk.stem import WordNetLemmatizer\n",
        "from tensorflow.keras.models import Model\n",
        "from keras.utils.vis_utils import plot_model\n",
        "from sklearn.preprocessing import LabelEncoder\n",
        "from tensorflow.keras.preprocessing.text import Tokenizer\n",
        "from tensorflow.keras.layers import Input, Embedding, LSTM\n",
        "from tensorflow.keras.preprocessing.sequence import pad_sequences\n",
        "from tensorflow.keras.layers import Flatten, Dense, GlobalMaxPool1D"
      ]
    },
    {
      "cell_type": "markdown",
      "source": [
        "## **Download NLTK Package**"
      ],
      "metadata": {
        "id": "XFqXivzfTGhq"
      },
      "id": "XFqXivzfTGhq"
    },
    {
      "cell_type": "code",
      "source": [
        "nltk.download('punkt')\n",
        "nltk.download('wordnet')\n",
        "nltk.download('omw-1.4')"
      ],
      "metadata": {
        "colab": {
          "base_uri": "https://localhost:8080/"
        },
        "id": "ZFHfBZ3mO1QE",
        "outputId": "4e2c952e-bd02-4fa7-fbf7-99555773c7b0"
      },
      "id": "ZFHfBZ3mO1QE",
      "execution_count": 6,
      "outputs": [
        {
          "output_type": "stream",
          "name": "stderr",
          "text": [
            "[nltk_data] Downloading package punkt to /root/nltk_data...\n",
            "[nltk_data]   Unzipping tokenizers/punkt.zip.\n",
            "[nltk_data] Downloading package wordnet to /root/nltk_data...\n",
            "[nltk_data] Downloading package omw-1.4 to /root/nltk_data...\n"
          ]
        },
        {
          "output_type": "execute_result",
          "data": {
            "text/plain": [
              "True"
            ]
          },
          "metadata": {},
          "execution_count": 6
        }
      ]
    },
    {
      "cell_type": "markdown",
      "source": [
        "# **Load Dataset Json**\n",
        "\n",
        "Setelah import library, tahapan selanjutnya adalah me-load dataset yang telah disediakan. Dataset yang digunakan berupa format **.json** yang sangat cocok untuk membuat model Chatbot. \n",
        "\n",
        "Data Json merupakan data yang termasuk dalam *semi structured* yang dimana data ini menampung beberapa bagian data seperti **tag**, **pattern**, **context**, dan **response**. Data yang dipakai dalam proyek ini menggunakan dataset manual yang diciptakan oleh student Kampus Merdeka Batch 2 tentang <b>Chatbot Sistem Rekomendasi Kampus Merdeka</b>. [Github](https://github.com/mahmudwhd/WebKadekBot)"
      ],
      "metadata": {
        "id": "gLGpuyY9aMwW"
      },
      "id": "gLGpuyY9aMwW"
    },
    {
      "cell_type": "code",
      "source": [
        "# Importing the dataset\n",
        "with open('/content/kampus_merdeka.json') as content:\n",
        "  data1 = json.load(content)\n",
        "\n",
        "# Mendapatkan semua data ke dalam list\n",
        "tags = [] # data tag\n",
        "inputs = [] # data input atau pattern\n",
        "responses = {} # data respon\n",
        "words = [] # Data kata \n",
        "classes = [] # Data Kelas atau Tag\n",
        "documents = [] # Data Kalimat Dokumen\n",
        "ignore_words = ['?', '!'] # Mengabaikan tanda spesial karakter\n",
        "\n",
        "for intent in data1['intents']:\n",
        "  responses[intent['tag']]=intent['responses']\n",
        "  for lines in intent['patterns']:\n",
        "    inputs.append(lines)\n",
        "    tags.append(intent['tag'])\n",
        "    for pattern in intent['patterns']:\n",
        "      w = nltk.word_tokenize(pattern)\n",
        "      words.extend(w)\n",
        "      documents.append((w, intent['tag']))\n",
        "      # add to our classes list\n",
        "      if intent['tag'] not in classes:\n",
        "        classes.append(intent['tag'])\n",
        "\n",
        "# Konversi data json ke dalam dataframe\n",
        "data = pd.DataFrame({\"patterns\":inputs, \"tags\":tags})"
      ],
      "metadata": {
        "id": "JD4ILKqFZ_hf"
      },
      "id": "JD4ILKqFZ_hf",
      "execution_count": 7,
      "outputs": []
    },
    {
      "cell_type": "code",
      "source": [
        "data"
      ],
      "metadata": {
        "colab": {
          "base_uri": "https://localhost:8080/",
          "height": 424
        },
        "id": "5N0s7BObcv5-",
        "outputId": "c2374d85-2e0d-4ad7-a7fd-5c06d92f0ed5"
      },
      "id": "5N0s7BObcv5-",
      "execution_count": 8,
      "outputs": [
        {
          "output_type": "execute_result",
          "data": {
            "text/plain": [
              "                                             patterns  \\\n",
              "0                                               hallo   \n",
              "1                                                 hai   \n",
              "2                                                halo   \n",
              "3                                                 hei   \n",
              "4                                                  hi   \n",
              "..                                                ...   \n",
              "75                                      Apa itu PMMB?   \n",
              "76                        Apa saja persyaratan IISMA?   \n",
              "77  Bagaimana periode pelaksanaan dan cara mendaft...   \n",
              "78           Apa saja manfaat apabila mengikuti PMMB?   \n",
              "79  Apa saja universitas yang tergabung dalam prog...   \n",
              "\n",
              "                            tags  \n",
              "0                       greeting  \n",
              "1                       greeting  \n",
              "2                       greeting  \n",
              "3                       greeting  \n",
              "4                       greeting  \n",
              "..                           ...  \n",
              "75               penjelasan_PMMB  \n",
              "76             persyaratan_IISMA  \n",
              "77  periode_dan_pendaftaran_PMMB  \n",
              "78                  manfaat_PMMB  \n",
              "79                    mitra_PMMB  \n",
              "\n",
              "[80 rows x 2 columns]"
            ],
            "text/html": [
              "\n",
              "  <div id=\"df-2cc25f2e-fef4-4536-b363-3760dd5e87a8\">\n",
              "    <div class=\"colab-df-container\">\n",
              "      <div>\n",
              "<style scoped>\n",
              "    .dataframe tbody tr th:only-of-type {\n",
              "        vertical-align: middle;\n",
              "    }\n",
              "\n",
              "    .dataframe tbody tr th {\n",
              "        vertical-align: top;\n",
              "    }\n",
              "\n",
              "    .dataframe thead th {\n",
              "        text-align: right;\n",
              "    }\n",
              "</style>\n",
              "<table border=\"1\" class=\"dataframe\">\n",
              "  <thead>\n",
              "    <tr style=\"text-align: right;\">\n",
              "      <th></th>\n",
              "      <th>patterns</th>\n",
              "      <th>tags</th>\n",
              "    </tr>\n",
              "  </thead>\n",
              "  <tbody>\n",
              "    <tr>\n",
              "      <th>0</th>\n",
              "      <td>hallo</td>\n",
              "      <td>greeting</td>\n",
              "    </tr>\n",
              "    <tr>\n",
              "      <th>1</th>\n",
              "      <td>hai</td>\n",
              "      <td>greeting</td>\n",
              "    </tr>\n",
              "    <tr>\n",
              "      <th>2</th>\n",
              "      <td>halo</td>\n",
              "      <td>greeting</td>\n",
              "    </tr>\n",
              "    <tr>\n",
              "      <th>3</th>\n",
              "      <td>hei</td>\n",
              "      <td>greeting</td>\n",
              "    </tr>\n",
              "    <tr>\n",
              "      <th>4</th>\n",
              "      <td>hi</td>\n",
              "      <td>greeting</td>\n",
              "    </tr>\n",
              "    <tr>\n",
              "      <th>...</th>\n",
              "      <td>...</td>\n",
              "      <td>...</td>\n",
              "    </tr>\n",
              "    <tr>\n",
              "      <th>75</th>\n",
              "      <td>Apa itu PMMB?</td>\n",
              "      <td>penjelasan_PMMB</td>\n",
              "    </tr>\n",
              "    <tr>\n",
              "      <th>76</th>\n",
              "      <td>Apa saja persyaratan IISMA?</td>\n",
              "      <td>persyaratan_IISMA</td>\n",
              "    </tr>\n",
              "    <tr>\n",
              "      <th>77</th>\n",
              "      <td>Bagaimana periode pelaksanaan dan cara mendaft...</td>\n",
              "      <td>periode_dan_pendaftaran_PMMB</td>\n",
              "    </tr>\n",
              "    <tr>\n",
              "      <th>78</th>\n",
              "      <td>Apa saja manfaat apabila mengikuti PMMB?</td>\n",
              "      <td>manfaat_PMMB</td>\n",
              "    </tr>\n",
              "    <tr>\n",
              "      <th>79</th>\n",
              "      <td>Apa saja universitas yang tergabung dalam prog...</td>\n",
              "      <td>mitra_PMMB</td>\n",
              "    </tr>\n",
              "  </tbody>\n",
              "</table>\n",
              "<p>80 rows × 2 columns</p>\n",
              "</div>\n",
              "      <button class=\"colab-df-convert\" onclick=\"convertToInteractive('df-2cc25f2e-fef4-4536-b363-3760dd5e87a8')\"\n",
              "              title=\"Convert this dataframe to an interactive table.\"\n",
              "              style=\"display:none;\">\n",
              "        \n",
              "  <svg xmlns=\"http://www.w3.org/2000/svg\" height=\"24px\"viewBox=\"0 0 24 24\"\n",
              "       width=\"24px\">\n",
              "    <path d=\"M0 0h24v24H0V0z\" fill=\"none\"/>\n",
              "    <path d=\"M18.56 5.44l.94 2.06.94-2.06 2.06-.94-2.06-.94-.94-2.06-.94 2.06-2.06.94zm-11 1L8.5 8.5l.94-2.06 2.06-.94-2.06-.94L8.5 2.5l-.94 2.06-2.06.94zm10 10l.94 2.06.94-2.06 2.06-.94-2.06-.94-.94-2.06-.94 2.06-2.06.94z\"/><path d=\"M17.41 7.96l-1.37-1.37c-.4-.4-.92-.59-1.43-.59-.52 0-1.04.2-1.43.59L10.3 9.45l-7.72 7.72c-.78.78-.78 2.05 0 2.83L4 21.41c.39.39.9.59 1.41.59.51 0 1.02-.2 1.41-.59l7.78-7.78 2.81-2.81c.8-.78.8-2.07 0-2.86zM5.41 20L4 18.59l7.72-7.72 1.47 1.35L5.41 20z\"/>\n",
              "  </svg>\n",
              "      </button>\n",
              "      \n",
              "  <style>\n",
              "    .colab-df-container {\n",
              "      display:flex;\n",
              "      flex-wrap:wrap;\n",
              "      gap: 12px;\n",
              "    }\n",
              "\n",
              "    .colab-df-convert {\n",
              "      background-color: #E8F0FE;\n",
              "      border: none;\n",
              "      border-radius: 50%;\n",
              "      cursor: pointer;\n",
              "      display: none;\n",
              "      fill: #1967D2;\n",
              "      height: 32px;\n",
              "      padding: 0 0 0 0;\n",
              "      width: 32px;\n",
              "    }\n",
              "\n",
              "    .colab-df-convert:hover {\n",
              "      background-color: #E2EBFA;\n",
              "      box-shadow: 0px 1px 2px rgba(60, 64, 67, 0.3), 0px 1px 3px 1px rgba(60, 64, 67, 0.15);\n",
              "      fill: #174EA6;\n",
              "    }\n",
              "\n",
              "    [theme=dark] .colab-df-convert {\n",
              "      background-color: #3B4455;\n",
              "      fill: #D2E3FC;\n",
              "    }\n",
              "\n",
              "    [theme=dark] .colab-df-convert:hover {\n",
              "      background-color: #434B5C;\n",
              "      box-shadow: 0px 1px 3px 1px rgba(0, 0, 0, 0.15);\n",
              "      filter: drop-shadow(0px 1px 2px rgba(0, 0, 0, 0.3));\n",
              "      fill: #FFFFFF;\n",
              "    }\n",
              "  </style>\n",
              "\n",
              "      <script>\n",
              "        const buttonEl =\n",
              "          document.querySelector('#df-2cc25f2e-fef4-4536-b363-3760dd5e87a8 button.colab-df-convert');\n",
              "        buttonEl.style.display =\n",
              "          google.colab.kernel.accessAllowed ? 'block' : 'none';\n",
              "\n",
              "        async function convertToInteractive(key) {\n",
              "          const element = document.querySelector('#df-2cc25f2e-fef4-4536-b363-3760dd5e87a8');\n",
              "          const dataTable =\n",
              "            await google.colab.kernel.invokeFunction('convertToInteractive',\n",
              "                                                     [key], {});\n",
              "          if (!dataTable) return;\n",
              "\n",
              "          const docLinkHtml = 'Like what you see? Visit the ' +\n",
              "            '<a target=\"_blank\" href=https://colab.research.google.com/notebooks/data_table.ipynb>data table notebook</a>'\n",
              "            + ' to learn more about interactive tables.';\n",
              "          element.innerHTML = '';\n",
              "          dataTable['output_type'] = 'display_data';\n",
              "          await google.colab.output.renderOutput(dataTable, element);\n",
              "          const docLink = document.createElement('div');\n",
              "          docLink.innerHTML = docLinkHtml;\n",
              "          element.appendChild(docLink);\n",
              "        }\n",
              "      </script>\n",
              "    </div>\n",
              "  </div>\n",
              "  "
            ]
          },
          "metadata": {},
          "execution_count": 8
        }
      ]
    },
    {
      "cell_type": "code",
      "source": [
        "data.head() # Cetak data baris pertama sampai baris kelima"
      ],
      "metadata": {
        "colab": {
          "base_uri": "https://localhost:8080/",
          "height": 206
        },
        "id": "5DFoJwcVdP52",
        "outputId": "4d121d29-9a3f-49f9-b2e0-2fc50fcb708c"
      },
      "id": "5DFoJwcVdP52",
      "execution_count": 9,
      "outputs": [
        {
          "output_type": "execute_result",
          "data": {
            "text/plain": [
              "  patterns      tags\n",
              "0    hallo  greeting\n",
              "1      hai  greeting\n",
              "2     halo  greeting\n",
              "3      hei  greeting\n",
              "4       hi  greeting"
            ],
            "text/html": [
              "\n",
              "  <div id=\"df-eed98743-04ed-4fea-80d5-765155d51266\">\n",
              "    <div class=\"colab-df-container\">\n",
              "      <div>\n",
              "<style scoped>\n",
              "    .dataframe tbody tr th:only-of-type {\n",
              "        vertical-align: middle;\n",
              "    }\n",
              "\n",
              "    .dataframe tbody tr th {\n",
              "        vertical-align: top;\n",
              "    }\n",
              "\n",
              "    .dataframe thead th {\n",
              "        text-align: right;\n",
              "    }\n",
              "</style>\n",
              "<table border=\"1\" class=\"dataframe\">\n",
              "  <thead>\n",
              "    <tr style=\"text-align: right;\">\n",
              "      <th></th>\n",
              "      <th>patterns</th>\n",
              "      <th>tags</th>\n",
              "    </tr>\n",
              "  </thead>\n",
              "  <tbody>\n",
              "    <tr>\n",
              "      <th>0</th>\n",
              "      <td>hallo</td>\n",
              "      <td>greeting</td>\n",
              "    </tr>\n",
              "    <tr>\n",
              "      <th>1</th>\n",
              "      <td>hai</td>\n",
              "      <td>greeting</td>\n",
              "    </tr>\n",
              "    <tr>\n",
              "      <th>2</th>\n",
              "      <td>halo</td>\n",
              "      <td>greeting</td>\n",
              "    </tr>\n",
              "    <tr>\n",
              "      <th>3</th>\n",
              "      <td>hei</td>\n",
              "      <td>greeting</td>\n",
              "    </tr>\n",
              "    <tr>\n",
              "      <th>4</th>\n",
              "      <td>hi</td>\n",
              "      <td>greeting</td>\n",
              "    </tr>\n",
              "  </tbody>\n",
              "</table>\n",
              "</div>\n",
              "      <button class=\"colab-df-convert\" onclick=\"convertToInteractive('df-eed98743-04ed-4fea-80d5-765155d51266')\"\n",
              "              title=\"Convert this dataframe to an interactive table.\"\n",
              "              style=\"display:none;\">\n",
              "        \n",
              "  <svg xmlns=\"http://www.w3.org/2000/svg\" height=\"24px\"viewBox=\"0 0 24 24\"\n",
              "       width=\"24px\">\n",
              "    <path d=\"M0 0h24v24H0V0z\" fill=\"none\"/>\n",
              "    <path d=\"M18.56 5.44l.94 2.06.94-2.06 2.06-.94-2.06-.94-.94-2.06-.94 2.06-2.06.94zm-11 1L8.5 8.5l.94-2.06 2.06-.94-2.06-.94L8.5 2.5l-.94 2.06-2.06.94zm10 10l.94 2.06.94-2.06 2.06-.94-2.06-.94-.94-2.06-.94 2.06-2.06.94z\"/><path d=\"M17.41 7.96l-1.37-1.37c-.4-.4-.92-.59-1.43-.59-.52 0-1.04.2-1.43.59L10.3 9.45l-7.72 7.72c-.78.78-.78 2.05 0 2.83L4 21.41c.39.39.9.59 1.41.59.51 0 1.02-.2 1.41-.59l7.78-7.78 2.81-2.81c.8-.78.8-2.07 0-2.86zM5.41 20L4 18.59l7.72-7.72 1.47 1.35L5.41 20z\"/>\n",
              "  </svg>\n",
              "      </button>\n",
              "      \n",
              "  <style>\n",
              "    .colab-df-container {\n",
              "      display:flex;\n",
              "      flex-wrap:wrap;\n",
              "      gap: 12px;\n",
              "    }\n",
              "\n",
              "    .colab-df-convert {\n",
              "      background-color: #E8F0FE;\n",
              "      border: none;\n",
              "      border-radius: 50%;\n",
              "      cursor: pointer;\n",
              "      display: none;\n",
              "      fill: #1967D2;\n",
              "      height: 32px;\n",
              "      padding: 0 0 0 0;\n",
              "      width: 32px;\n",
              "    }\n",
              "\n",
              "    .colab-df-convert:hover {\n",
              "      background-color: #E2EBFA;\n",
              "      box-shadow: 0px 1px 2px rgba(60, 64, 67, 0.3), 0px 1px 3px 1px rgba(60, 64, 67, 0.15);\n",
              "      fill: #174EA6;\n",
              "    }\n",
              "\n",
              "    [theme=dark] .colab-df-convert {\n",
              "      background-color: #3B4455;\n",
              "      fill: #D2E3FC;\n",
              "    }\n",
              "\n",
              "    [theme=dark] .colab-df-convert:hover {\n",
              "      background-color: #434B5C;\n",
              "      box-shadow: 0px 1px 3px 1px rgba(0, 0, 0, 0.15);\n",
              "      filter: drop-shadow(0px 1px 2px rgba(0, 0, 0, 0.3));\n",
              "      fill: #FFFFFF;\n",
              "    }\n",
              "  </style>\n",
              "\n",
              "      <script>\n",
              "        const buttonEl =\n",
              "          document.querySelector('#df-eed98743-04ed-4fea-80d5-765155d51266 button.colab-df-convert');\n",
              "        buttonEl.style.display =\n",
              "          google.colab.kernel.accessAllowed ? 'block' : 'none';\n",
              "\n",
              "        async function convertToInteractive(key) {\n",
              "          const element = document.querySelector('#df-eed98743-04ed-4fea-80d5-765155d51266');\n",
              "          const dataTable =\n",
              "            await google.colab.kernel.invokeFunction('convertToInteractive',\n",
              "                                                     [key], {});\n",
              "          if (!dataTable) return;\n",
              "\n",
              "          const docLinkHtml = 'Like what you see? Visit the ' +\n",
              "            '<a target=\"_blank\" href=https://colab.research.google.com/notebooks/data_table.ipynb>data table notebook</a>'\n",
              "            + ' to learn more about interactive tables.';\n",
              "          element.innerHTML = '';\n",
              "          dataTable['output_type'] = 'display_data';\n",
              "          await google.colab.output.renderOutput(dataTable, element);\n",
              "          const docLink = document.createElement('div');\n",
              "          docLink.innerHTML = docLinkHtml;\n",
              "          element.appendChild(docLink);\n",
              "        }\n",
              "      </script>\n",
              "    </div>\n",
              "  </div>\n",
              "  "
            ]
          },
          "metadata": {},
          "execution_count": 9
        }
      ]
    },
    {
      "cell_type": "code",
      "source": [
        "data.tail() # Cetak data baris ke-70 sampai baris akhir"
      ],
      "metadata": {
        "colab": {
          "base_uri": "https://localhost:8080/",
          "height": 206
        },
        "id": "HksM_GGVdenI",
        "outputId": "f1edb57c-2555-4bd2-e2a0-aca530c4f3e6"
      },
      "id": "HksM_GGVdenI",
      "execution_count": 10,
      "outputs": [
        {
          "output_type": "execute_result",
          "data": {
            "text/plain": [
              "                                             patterns  \\\n",
              "75                                      Apa itu PMMB?   \n",
              "76                        Apa saja persyaratan IISMA?   \n",
              "77  Bagaimana periode pelaksanaan dan cara mendaft...   \n",
              "78           Apa saja manfaat apabila mengikuti PMMB?   \n",
              "79  Apa saja universitas yang tergabung dalam prog...   \n",
              "\n",
              "                            tags  \n",
              "75               penjelasan_PMMB  \n",
              "76             persyaratan_IISMA  \n",
              "77  periode_dan_pendaftaran_PMMB  \n",
              "78                  manfaat_PMMB  \n",
              "79                    mitra_PMMB  "
            ],
            "text/html": [
              "\n",
              "  <div id=\"df-1c40adc0-4780-40e5-bf50-1a7acac6aae6\">\n",
              "    <div class=\"colab-df-container\">\n",
              "      <div>\n",
              "<style scoped>\n",
              "    .dataframe tbody tr th:only-of-type {\n",
              "        vertical-align: middle;\n",
              "    }\n",
              "\n",
              "    .dataframe tbody tr th {\n",
              "        vertical-align: top;\n",
              "    }\n",
              "\n",
              "    .dataframe thead th {\n",
              "        text-align: right;\n",
              "    }\n",
              "</style>\n",
              "<table border=\"1\" class=\"dataframe\">\n",
              "  <thead>\n",
              "    <tr style=\"text-align: right;\">\n",
              "      <th></th>\n",
              "      <th>patterns</th>\n",
              "      <th>tags</th>\n",
              "    </tr>\n",
              "  </thead>\n",
              "  <tbody>\n",
              "    <tr>\n",
              "      <th>75</th>\n",
              "      <td>Apa itu PMMB?</td>\n",
              "      <td>penjelasan_PMMB</td>\n",
              "    </tr>\n",
              "    <tr>\n",
              "      <th>76</th>\n",
              "      <td>Apa saja persyaratan IISMA?</td>\n",
              "      <td>persyaratan_IISMA</td>\n",
              "    </tr>\n",
              "    <tr>\n",
              "      <th>77</th>\n",
              "      <td>Bagaimana periode pelaksanaan dan cara mendaft...</td>\n",
              "      <td>periode_dan_pendaftaran_PMMB</td>\n",
              "    </tr>\n",
              "    <tr>\n",
              "      <th>78</th>\n",
              "      <td>Apa saja manfaat apabila mengikuti PMMB?</td>\n",
              "      <td>manfaat_PMMB</td>\n",
              "    </tr>\n",
              "    <tr>\n",
              "      <th>79</th>\n",
              "      <td>Apa saja universitas yang tergabung dalam prog...</td>\n",
              "      <td>mitra_PMMB</td>\n",
              "    </tr>\n",
              "  </tbody>\n",
              "</table>\n",
              "</div>\n",
              "      <button class=\"colab-df-convert\" onclick=\"convertToInteractive('df-1c40adc0-4780-40e5-bf50-1a7acac6aae6')\"\n",
              "              title=\"Convert this dataframe to an interactive table.\"\n",
              "              style=\"display:none;\">\n",
              "        \n",
              "  <svg xmlns=\"http://www.w3.org/2000/svg\" height=\"24px\"viewBox=\"0 0 24 24\"\n",
              "       width=\"24px\">\n",
              "    <path d=\"M0 0h24v24H0V0z\" fill=\"none\"/>\n",
              "    <path d=\"M18.56 5.44l.94 2.06.94-2.06 2.06-.94-2.06-.94-.94-2.06-.94 2.06-2.06.94zm-11 1L8.5 8.5l.94-2.06 2.06-.94-2.06-.94L8.5 2.5l-.94 2.06-2.06.94zm10 10l.94 2.06.94-2.06 2.06-.94-2.06-.94-.94-2.06-.94 2.06-2.06.94z\"/><path d=\"M17.41 7.96l-1.37-1.37c-.4-.4-.92-.59-1.43-.59-.52 0-1.04.2-1.43.59L10.3 9.45l-7.72 7.72c-.78.78-.78 2.05 0 2.83L4 21.41c.39.39.9.59 1.41.59.51 0 1.02-.2 1.41-.59l7.78-7.78 2.81-2.81c.8-.78.8-2.07 0-2.86zM5.41 20L4 18.59l7.72-7.72 1.47 1.35L5.41 20z\"/>\n",
              "  </svg>\n",
              "      </button>\n",
              "      \n",
              "  <style>\n",
              "    .colab-df-container {\n",
              "      display:flex;\n",
              "      flex-wrap:wrap;\n",
              "      gap: 12px;\n",
              "    }\n",
              "\n",
              "    .colab-df-convert {\n",
              "      background-color: #E8F0FE;\n",
              "      border: none;\n",
              "      border-radius: 50%;\n",
              "      cursor: pointer;\n",
              "      display: none;\n",
              "      fill: #1967D2;\n",
              "      height: 32px;\n",
              "      padding: 0 0 0 0;\n",
              "      width: 32px;\n",
              "    }\n",
              "\n",
              "    .colab-df-convert:hover {\n",
              "      background-color: #E2EBFA;\n",
              "      box-shadow: 0px 1px 2px rgba(60, 64, 67, 0.3), 0px 1px 3px 1px rgba(60, 64, 67, 0.15);\n",
              "      fill: #174EA6;\n",
              "    }\n",
              "\n",
              "    [theme=dark] .colab-df-convert {\n",
              "      background-color: #3B4455;\n",
              "      fill: #D2E3FC;\n",
              "    }\n",
              "\n",
              "    [theme=dark] .colab-df-convert:hover {\n",
              "      background-color: #434B5C;\n",
              "      box-shadow: 0px 1px 3px 1px rgba(0, 0, 0, 0.15);\n",
              "      filter: drop-shadow(0px 1px 2px rgba(0, 0, 0, 0.3));\n",
              "      fill: #FFFFFF;\n",
              "    }\n",
              "  </style>\n",
              "\n",
              "      <script>\n",
              "        const buttonEl =\n",
              "          document.querySelector('#df-1c40adc0-4780-40e5-bf50-1a7acac6aae6 button.colab-df-convert');\n",
              "        buttonEl.style.display =\n",
              "          google.colab.kernel.accessAllowed ? 'block' : 'none';\n",
              "\n",
              "        async function convertToInteractive(key) {\n",
              "          const element = document.querySelector('#df-1c40adc0-4780-40e5-bf50-1a7acac6aae6');\n",
              "          const dataTable =\n",
              "            await google.colab.kernel.invokeFunction('convertToInteractive',\n",
              "                                                     [key], {});\n",
              "          if (!dataTable) return;\n",
              "\n",
              "          const docLinkHtml = 'Like what you see? Visit the ' +\n",
              "            '<a target=\"_blank\" href=https://colab.research.google.com/notebooks/data_table.ipynb>data table notebook</a>'\n",
              "            + ' to learn more about interactive tables.';\n",
              "          element.innerHTML = '';\n",
              "          dataTable['output_type'] = 'display_data';\n",
              "          await google.colab.output.renderOutput(dataTable, element);\n",
              "          const docLink = document.createElement('div');\n",
              "          docLink.innerHTML = docLinkHtml;\n",
              "          element.appendChild(docLink);\n",
              "        }\n",
              "      </script>\n",
              "    </div>\n",
              "  </div>\n",
              "  "
            ]
          },
          "metadata": {},
          "execution_count": 10
        }
      ]
    },
    {
      "cell_type": "markdown",
      "source": [
        "Data yang telah kita miliki dalam format JSON yang dapat digunakan melalui pandas dengan cara konversi. Data JSON yang saya miliki didapat dengan cara manual dengan mengambil beberapa referensi website tentang program Kampus Merdeka."
      ],
      "metadata": {
        "id": "8p_YOwTKdr53"
      },
      "id": "8p_YOwTKdr53"
    },
    {
      "cell_type": "markdown",
      "source": [
        "# **Preprocessing The Data**\n",
        "\n",
        "Setelah kita meload data dan mengonversi data json menjadi dataframe. Tahapan selanjutnya adalah praproses pada dataset yang kita gunakan saat ini yaitu dengan cara:\n",
        "\n",
        "![Praproses.png](data:image/png;base64,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)\n",
        "\n",
        "1.   Remove Punctuations (Menghapus Punktuasi)\n",
        "2.   Lematization (Lematisasi)\n",
        "3.   Tokenization (Tokenisasi)\n",
        "4.   Apply Padding (Padding)\n",
        "5.   Encoding the Outputs (Konversi Keluaran Enkoding)"
      ],
      "metadata": {
        "id": "vHnr2WFvebeJ"
      },
      "id": "vHnr2WFvebeJ"
    },
    {
      "cell_type": "markdown",
      "source": [
        "## **Remove Punctuations**\n",
        "\n",
        "Tahapan praproses pada data teks yang pertama adalah menghapus punktuasi atau tanda baca seperti *special character* yaitu **'!'** (**tanda seru**) **','** (**tanda koma**) **'.'** (**tanda titik sebagai berhenti**) '**?**' (**tanda tanya**) dan tanda baca yang lain. Tahapan ini gunanya untuk mempermudah pemrosesan data teks yang akan kita olah."
      ],
      "metadata": {
        "id": "u_04NeXTIImg"
      },
      "id": "u_04NeXTIImg"
    },
    {
      "cell_type": "code",
      "source": [
        "# Removing Punctuations (Menghilangkan Punktuasi)\n",
        "data['patterns'] = data['patterns'].apply(lambda wrd:[ltrs.lower() for ltrs in wrd if ltrs not in string.punctuation])\n",
        "data['patterns'] = data['patterns'].apply(lambda wrd: ''.join(wrd))"
      ],
      "metadata": {
        "id": "Gh-7EtrfhQgY"
      },
      "id": "Gh-7EtrfhQgY",
      "execution_count": 12,
      "outputs": []
    },
    {
      "cell_type": "markdown",
      "source": [
        "## **Lemmatization (Lematisasi)**\n",
        "\n",
        "Setelah menghapus punktuasi atau tanda baca, tahapan selanjutnya yaitu Lematisasi atau Lemmatization. **Apa itu Lematisasi?**\n",
        "\n",
        "Lematisasi atau Lemmatization adalah proses dimana merujuk pada melakukan sesuatu menggunakan vocabulary atau kosakata dan analisis morfologi kata-kata untuk menghilangkan *inflectional endings only* dan untuk mengembalikan bentuk *dictionary* (kata dalam kamus) dari sebuah kata yang dikenal sebagai ***lemma***. \n",
        "\n",
        "Contoh Lematisasi : **Menggunakan** (Kata Imbuhan) -> **Guna** (Kata Dasar) \n",
        "\n",
        "Dalam contoh berikut proses lematisasi awalnya data teks menggunakan kata imbuhan yaitu **Menggunakan** dimana **meng-** + **guna** (kata dasar yang berawalan vokal g) + **kan** (sebagai akhiran) diubah menjadi kata dasar yaitu '**Guna**'. \n",
        "\n",
        "Proses ini dimana menghilangkan Prefiks pada imbuhan (**Meng-**) dan Suffiks pada (**-kan**)."
      ],
      "metadata": {
        "id": "5brR-qBLJDa_"
      },
      "id": "5brR-qBLJDa_"
    },
    {
      "cell_type": "code",
      "source": [
        "lemmatizer = WordNetLemmatizer()\n",
        "words = [lemmatizer.lemmatize(w.lower()) for w in words if w not in ignore_words]\n",
        "words = sorted(list(set(words)))\n",
        "\n",
        "print (len(words), \"unique lemmatized words\", words)"
      ],
      "metadata": {
        "colab": {
          "base_uri": "https://localhost:8080/"
        },
        "id": "22MVRGBsO9gX",
        "outputId": "d6339906-0aec-4d97-c26e-9cf81385b172"
      },
      "id": "22MVRGBsO9gX",
      "execution_count": 13,
      "outputs": [
        {
          "output_type": "stream",
          "name": "stdout",
          "text": [
            "78 unique lemmatized words [',', 'afternoon', 'apa', 'apabila', 'bagaimana', 'bai', 'banyak', 'bersertifikat', 'bro', 'buat', 'bumn', 'bye', 'byee', 'cara', 'dadah', 'dah', 'dalam', 'dan', 'good', 'hai', 'hallo', 'halo', 'hei', 'hi', 'hy', 'iisma', 'independen', 'itu', 'jumpa', 'kadek', 'kadekbot', 'kampus', 'kamu', 'kasih', 'kawan', 'kemendikbud', 'kemensos', 'magang', 'mahasiswa', 'makasih', 'malam', 'manfaat', 'mendaftar', 'mengajar', 'mengikuti', 'merdeka', 'mitra', 'morning', 'muda', 'pagi', 'pejuang', 'pelaksanaan', 'pembuatmu', 'penciptamu', 'periode', 'persyaratan', 'pertukaran', 'pmmb', 'program', 'saja', 'sampai', 'see', 'selamat', 'si', 'siang', 'siapa', 'sih', 'sore', 'studi', 'tergabung', 'terima', 'thank', 'thanks', 'tinggal', 'tujuan', 'universitas', 'yang', 'you']\n"
          ]
        }
      ]
    },
    {
      "cell_type": "code",
      "source": [
        "# sort classes\n",
        "classes = sorted(list(set(classes)))\n",
        "print (len(classes), \"classes\", classes)"
      ],
      "metadata": {
        "colab": {
          "base_uri": "https://localhost:8080/"
        },
        "id": "TK_v4Zw5P8rn",
        "outputId": "6c0a5e69-aa08-49f4-8879-146d09769fba"
      },
      "id": "TK_v4Zw5P8rn",
      "execution_count": 14,
      "outputs": [
        {
          "output_type": "stream",
          "name": "stdout",
          "text": [
            "40 classes ['goodbye', 'greeting', 'kadekbot', 'manfaat_IISMA', 'manfaat_PMMB', 'manfaat_kampus_mengajar', 'manfaat_magang', 'manfaat_pejuang_muda', 'manfaat_pertukaran_mahasiswa', 'manfaat_studi_independen', 'mitra_IISMA', 'mitra_PMMB', 'mitra_magang', 'mitra_studi_independen', 'pencipta_kadekbot', 'penjelasan_IISMA', 'penjelasan_PMMB', 'penjelasan_kampus_mengajar', 'penjelasan_kampus_merdeka', 'penjelasan_magang', 'penjelasan_pejuang_muda', 'penjelasan_pertukaran_mahasiswa', 'penjelasan_studi_independen', 'periode_dan_pendaftaran_IISMA', 'periode_dan_pendaftaran_PMMB', 'periode_dan_pendaftaran_kampus_mengajar', 'periode_dan_pendaftaran_magang', 'periode_dan_pendaftaran_pejuang_muda', 'periode_dan_pendaftaran_pertukaran_mahasiswa', 'periode_dan_pendaftaran_studi_independen', 'persyaratan_IISMA', 'persyaratan_kampus_mengajar', 'persyaratan_kampus_merdeka', 'persyaratan_magang', 'persyaratan_pejuang_muda', 'persyaratan_pertukaran_mahasiswa', 'persyaratan_studi_independen', 'program_kampus_merdeka', 'terimakasih', 'tujuan_kampus_merdeka']\n"
          ]
        }
      ]
    },
    {
      "cell_type": "code",
      "source": [
        "# documents = combination between patterns and intents\n",
        "print (len(documents), \"documents\")"
      ],
      "metadata": {
        "colab": {
          "base_uri": "https://localhost:8080/"
        },
        "id": "Tv5lLFn1QCDP",
        "outputId": "2a1123f4-15eb-42e9-8490-18ad239f1095"
      },
      "id": "Tv5lLFn1QCDP",
      "execution_count": 15,
      "outputs": [
        {
          "output_type": "stream",
          "name": "stdout",
          "text": [
            "438 documents\n"
          ]
        }
      ]
    },
    {
      "cell_type": "markdown",
      "source": [
        "## **Tokenization (Tokenisasi)**"
      ],
      "metadata": {
        "id": "sVdv1gW5N7a6"
      },
      "id": "sVdv1gW5N7a6"
    },
    {
      "cell_type": "code",
      "source": [
        "# Tokenize the data (Tokenisasi Data)\n",
        "tokenizer = Tokenizer(num_words=2000)\n",
        "tokenizer.fit_on_texts(data['patterns'])\n",
        "train = tokenizer.texts_to_sequences(data['patterns'])\n",
        "train"
      ],
      "metadata": {
        "id": "Xr5aehymeQdi",
        "colab": {
          "base_uri": "https://localhost:8080/"
        },
        "outputId": "145f5647-b1fb-452d-c311-23091c39aded"
      },
      "id": "Xr5aehymeQdi",
      "execution_count": null,
      "outputs": [
        {
          "output_type": "execute_result",
          "data": {
            "text/plain": [
              "[[40],\n",
              " [41],\n",
              " [42],\n",
              " [43],\n",
              " [44],\n",
              " [45],\n",
              " [46],\n",
              " [47],\n",
              " [48],\n",
              " [49],\n",
              " [50],\n",
              " [51],\n",
              " [52],\n",
              " [53],\n",
              " [54],\n",
              " [1, 6, 32],\n",
              " [29, 32],\n",
              " [29, 55],\n",
              " [33, 21, 56, 57, 29, 58],\n",
              " [29, 59, 33],\n",
              " [60],\n",
              " [61],\n",
              " [34],\n",
              " [62],\n",
              " [63, 34],\n",
              " [64, 65],\n",
              " [66, 67],\n",
              " [68],\n",
              " [69, 35],\n",
              " [70],\n",
              " [71, 35],\n",
              " [36, 37],\n",
              " [72],\n",
              " [36, 37, 73],\n",
              " [1, 6, 4, 5],\n",
              " [1, 74, 4, 5],\n",
              " [1, 7, 8, 4, 5],\n",
              " [1, 2, 3, 4, 5],\n",
              " [3, 4, 5, 75],\n",
              " [3, 4, 5, 76],\n",
              " [3, 4, 5, 77],\n",
              " [18, 19],\n",
              " [20],\n",
              " [4, 22],\n",
              " [9],\n",
              " [23, 24, 5],\n",
              " [25, 26],\n",
              " [27],\n",
              " [1, 6, 18, 19],\n",
              " [1, 2, 7, 18, 19],\n",
              " [10, 11, 12, 13, 14, 15, 3, 18, 19],\n",
              " [1, 2, 16, 17, 8, 18, 19],\n",
              " [1, 2, 38, 21, 30, 31, 18, 19],\n",
              " [1, 6, 20, 28],\n",
              " [1, 2, 7, 20, 28],\n",
              " [10, 11, 12, 13, 14, 15, 3, 20, 28],\n",
              " [1, 2, 16, 17, 8, 20, 28],\n",
              " [1, 2, 38, 21, 30, 31, 20, 28],\n",
              " [1, 6, 4, 22],\n",
              " [1, 2, 7, 4, 22],\n",
              " [10, 11, 12, 13, 14, 15, 3, 4, 22],\n",
              " [1, 2, 16, 17, 8, 4, 22],\n",
              " [1, 6, 9],\n",
              " [1, 2, 7, 9],\n",
              " [10, 11, 12, 13, 14, 15, 3, 9],\n",
              " [1, 2, 16, 17, 8, 9],\n",
              " [1, 2, 39, 21, 30, 31, 3, 9],\n",
              " [1, 6, 23, 24, 5],\n",
              " [1, 2, 7, 23, 24, 5],\n",
              " [10, 11, 12, 13, 14, 15, 3, 23, 24, 5],\n",
              " [1, 2, 16, 17, 8, 23, 24, 5],\n",
              " [1, 6, 25, 26],\n",
              " [1, 2, 7, 25, 26],\n",
              " [10, 11, 12, 13, 14, 15, 3, 25, 26],\n",
              " [1, 2, 16, 17, 8, 25, 26],\n",
              " [1, 6, 27],\n",
              " [1, 2, 7, 9],\n",
              " [10, 11, 12, 13, 14, 15, 3, 27],\n",
              " [1, 2, 16, 17, 8, 27],\n",
              " [1, 2, 39, 21, 30, 31, 3, 27]]"
            ]
          },
          "metadata": {},
          "execution_count": 12
        }
      ]
    },
    {
      "cell_type": "code",
      "source": [
        "# Apply padding \n",
        "x_train = pad_sequences(train)\n",
        "\n",
        "# Encoding the outputs \n",
        "le = LabelEncoder()\n",
        "y_train = le.fit_transform(data['tags'])"
      ],
      "metadata": {
        "id": "5BQdPUTNvS1t"
      },
      "id": "5BQdPUTNvS1t",
      "execution_count": null,
      "outputs": []
    },
    {
      "cell_type": "code",
      "source": [
        "print(x_train) # Padding Sequences"
      ],
      "metadata": {
        "colab": {
          "base_uri": "https://localhost:8080/"
        },
        "id": "sczq--IpTYWa",
        "outputId": "2089841d-f268-49f9-f7cc-7e5d66362b90"
      },
      "id": "sczq--IpTYWa",
      "execution_count": null,
      "outputs": [
        {
          "output_type": "stream",
          "name": "stdout",
          "text": [
            "[[ 0  0  0  0  0  0  0  0  0 40]\n",
            " [ 0  0  0  0  0  0  0  0  0 41]\n",
            " [ 0  0  0  0  0  0  0  0  0 42]\n",
            " [ 0  0  0  0  0  0  0  0  0 43]\n",
            " [ 0  0  0  0  0  0  0  0  0 44]\n",
            " [ 0  0  0  0  0  0  0  0  0 45]\n",
            " [ 0  0  0  0  0  0  0  0  0 46]\n",
            " [ 0  0  0  0  0  0  0  0  0 47]\n",
            " [ 0  0  0  0  0  0  0  0  0 48]\n",
            " [ 0  0  0  0  0  0  0  0  0 49]\n",
            " [ 0  0  0  0  0  0  0  0  0 50]\n",
            " [ 0  0  0  0  0  0  0  0  0 51]\n",
            " [ 0  0  0  0  0  0  0  0  0 52]\n",
            " [ 0  0  0  0  0  0  0  0  0 53]\n",
            " [ 0  0  0  0  0  0  0  0  0 54]\n",
            " [ 0  0  0  0  0  0  0  1  6 32]\n",
            " [ 0  0  0  0  0  0  0  0 29 32]\n",
            " [ 0  0  0  0  0  0  0  0 29 55]\n",
            " [ 0  0  0  0 33 21 56 57 29 58]\n",
            " [ 0  0  0  0  0  0  0 29 59 33]\n",
            " [ 0  0  0  0  0  0  0  0  0 60]\n",
            " [ 0  0  0  0  0  0  0  0  0 61]\n",
            " [ 0  0  0  0  0  0  0  0  0 34]\n",
            " [ 0  0  0  0  0  0  0  0  0 62]\n",
            " [ 0  0  0  0  0  0  0  0 63 34]\n",
            " [ 0  0  0  0  0  0  0  0 64 65]\n",
            " [ 0  0  0  0  0  0  0  0 66 67]\n",
            " [ 0  0  0  0  0  0  0  0  0 68]\n",
            " [ 0  0  0  0  0  0  0  0 69 35]\n",
            " [ 0  0  0  0  0  0  0  0  0 70]\n",
            " [ 0  0  0  0  0  0  0  0 71 35]\n",
            " [ 0  0  0  0  0  0  0  0 36 37]\n",
            " [ 0  0  0  0  0  0  0  0  0 72]\n",
            " [ 0  0  0  0  0  0  0 36 37 73]\n",
            " [ 0  0  0  0  0  0  1  6  4  5]\n",
            " [ 0  0  0  0  0  0  1 74  4  5]\n",
            " [ 0  0  0  0  0  1  7  8  4  5]\n",
            " [ 0  0  0  0  0  1  2  3  4  5]\n",
            " [ 0  0  0  0  0  0  3  4  5 75]\n",
            " [ 0  0  0  0  0  0  3  4  5 76]\n",
            " [ 0  0  0  0  0  0  3  4  5 77]\n",
            " [ 0  0  0  0  0  0  0  0 18 19]\n",
            " [ 0  0  0  0  0  0  0  0  0 20]\n",
            " [ 0  0  0  0  0  0  0  0  4 22]\n",
            " [ 0  0  0  0  0  0  0  0  0  9]\n",
            " [ 0  0  0  0  0  0  0 23 24  5]\n",
            " [ 0  0  0  0  0  0  0  0 25 26]\n",
            " [ 0  0  0  0  0  0  0  0  0 27]\n",
            " [ 0  0  0  0  0  0  1  6 18 19]\n",
            " [ 0  0  0  0  0  1  2  7 18 19]\n",
            " [ 0 10 11 12 13 14 15  3 18 19]\n",
            " [ 0  0  0  1  2 16 17  8 18 19]\n",
            " [ 0  0  1  2 38 21 30 31 18 19]\n",
            " [ 0  0  0  0  0  0  1  6 20 28]\n",
            " [ 0  0  0  0  0  1  2  7 20 28]\n",
            " [ 0 10 11 12 13 14 15  3 20 28]\n",
            " [ 0  0  0  1  2 16 17  8 20 28]\n",
            " [ 0  0  1  2 38 21 30 31 20 28]\n",
            " [ 0  0  0  0  0  0  1  6  4 22]\n",
            " [ 0  0  0  0  0  1  2  7  4 22]\n",
            " [ 0 10 11 12 13 14 15  3  4 22]\n",
            " [ 0  0  0  1  2 16 17  8  4 22]\n",
            " [ 0  0  0  0  0  0  0  1  6  9]\n",
            " [ 0  0  0  0  0  0  1  2  7  9]\n",
            " [ 0  0 10 11 12 13 14 15  3  9]\n",
            " [ 0  0  0  0  1  2 16 17  8  9]\n",
            " [ 0  0  1  2 39 21 30 31  3  9]\n",
            " [ 0  0  0  0  0  1  6 23 24  5]\n",
            " [ 0  0  0  0  1  2  7 23 24  5]\n",
            " [10 11 12 13 14 15  3 23 24  5]\n",
            " [ 0  0  1  2 16 17  8 23 24  5]\n",
            " [ 0  0  0  0  0  0  1  6 25 26]\n",
            " [ 0  0  0  0  0  1  2  7 25 26]\n",
            " [ 0 10 11 12 13 14 15  3 25 26]\n",
            " [ 0  0  0  1  2 16 17  8 25 26]\n",
            " [ 0  0  0  0  0  0  0  1  6 27]\n",
            " [ 0  0  0  0  0  0  1  2  7  9]\n",
            " [ 0  0 10 11 12 13 14 15  3 27]\n",
            " [ 0  0  0  0  1  2 16 17  8 27]\n",
            " [ 0  0  1  2 39 21 30 31  3 27]]\n"
          ]
        }
      ]
    },
    {
      "cell_type": "code",
      "source": [
        "print(y_train) #Label Encodings"
      ],
      "metadata": {
        "colab": {
          "base_uri": "https://localhost:8080/"
        },
        "id": "B9RKPj7_TiRr",
        "outputId": "8ff438dc-f4d5-407f-e65a-f50c7f4a849e"
      },
      "id": "B9RKPj7_TiRr",
      "execution_count": null,
      "outputs": [
        {
          "output_type": "stream",
          "name": "stdout",
          "text": [
            "[ 1  1  1  1  1  1  1  1  1  1  1  1  1  1  1  2  2 14 14 14  0  0  0  0\n",
            "  0  0  0  0  0 38 38 38 38 38 18 39 32 37 37 37 37 37 37 37 37 37 37 37\n",
            " 22 36 29  9 13 19 33 26  6 12 17 31 25  5 15 30 23  3 10 21 35 28  8 20\n",
            " 34 27  7 16 30 24  4 11]\n"
          ]
        }
      ]
    },
    {
      "cell_type": "markdown",
      "source": [
        "Tokenizer pada Tensorflow memberikan token unik untuk setiap kata yang berbeda. Dan juga padding dilakukan untuk mendapatkan semua data dengan panjang yang sama sehingga dapat mengirimkannya ke lapisan atau layer RNN. variabel target juga dikodekan menjadi nilai desimal."
      ],
      "metadata": {
        "id": "D9rKggGCgnjT"
      },
      "id": "D9rKggGCgnjT"
    },
    {
      "cell_type": "markdown",
      "source": [
        "# **Input Length, Output Length and Vocabulary**\n",
        "\n"
      ],
      "metadata": {
        "id": "_hE21zfRhiNS"
      },
      "id": "_hE21zfRhiNS"
    },
    {
      "cell_type": "code",
      "source": [
        "# input length\n",
        "input_shape = x_train.shape[1]\n",
        "print(input_shape)"
      ],
      "metadata": {
        "colab": {
          "base_uri": "https://localhost:8080/"
        },
        "id": "dbtBZXFvgvCB",
        "outputId": "e7f6c162-8f6c-477e-9293-591b4be5b598"
      },
      "id": "dbtBZXFvgvCB",
      "execution_count": null,
      "outputs": [
        {
          "output_type": "stream",
          "name": "stdout",
          "text": [
            "10\n"
          ]
        }
      ]
    },
    {
      "cell_type": "code",
      "source": [
        "# define vocabulary\n",
        "vocabulary = len(tokenizer.word_index)\n",
        "print(\"number of unique words : \", vocabulary)\n",
        "\n",
        "# output length\n",
        "output_length = le.classes_.shape[0]\n",
        "print(\"output length: \", output_length)"
      ],
      "metadata": {
        "colab": {
          "base_uri": "https://localhost:8080/"
        },
        "id": "310y6oNLhuzv",
        "outputId": "9c1f1de4-cca3-426d-b631-1869c8c16873"
      },
      "id": "310y6oNLhuzv",
      "execution_count": null,
      "outputs": [
        {
          "output_type": "stream",
          "name": "stdout",
          "text": [
            "number of unique words :  77\n",
            "output length:  40\n"
          ]
        }
      ]
    },
    {
      "cell_type": "markdown",
      "source": [
        "**Input length** dan **output length** terlihat sangat jelas hasilnya. Mereka adalah untuk bentuk input dan bentuk output dari jaringan syaraf pada algoritma Neural Network.\n",
        "\n",
        "**Vocabulary Size** adalah untuk lapisan penyematan untuk membuat representasi vektor unik untuk setiap kata."
      ],
      "metadata": {
        "id": "AInHhmVGict2"
      },
      "id": "AInHhmVGict2"
    },
    {
      "cell_type": "markdown",
      "source": [
        "# **Save Model Words & Classes**"
      ],
      "metadata": {
        "id": "1LxIElYjQbB7"
      },
      "id": "1LxIElYjQbB7"
    },
    {
      "cell_type": "code",
      "source": [
        "pickle.dump(words, open('/content/drive/MyDrive/Proyek/Natural Language Processing/Chatbot/Model/words.pkl','wb'))\n",
        "pickle.dump(classes, open('/content/drive/MyDrive/Proyek/Natural Language Processing/Chatbot/Model/classes.pkl','wb'))"
      ],
      "metadata": {
        "id": "wYV77QFbQVLP"
      },
      "id": "wYV77QFbQVLP",
      "execution_count": null,
      "outputs": []
    },
    {
      "cell_type": "markdown",
      "source": [
        "# **Neural Network Model**\n",
        "\n",
        "Jaringan syaraf yang terdiri dari lapisan embedding yang merupakan salah satu hal yang paling kuat di bidang pemrosesan bahasa alami atau NLP. output atau keluaran dari lapisan embedding adalah input dari lapisan berulang (*recurrent*) dengan LSTM gate. Kemudian, output diratakan dan lapisan Dense digunakan dengan fungsi aktivasi softmax.\n",
        "\n",
        "Bagian utama adalah lapisan embedding yang memberikan vektor yang sesuai untuk setiap kata dalam dataset."
      ],
      "metadata": {
        "id": "BI7OvNariInQ"
      },
      "id": "BI7OvNariInQ"
    },
    {
      "cell_type": "code",
      "source": [
        "# Creating the model (Membuat Modeling)\n",
        "i = Input(shape=(input_shape,))\n",
        "x = Embedding(vocabulary+1,10)(i) # Layer Embedding\n",
        "x = LSTM(10, return_sequences=True)(x) # Layer Long Short Term Memory\n",
        "x = Flatten()(x) # Layer Flatten\n",
        "x = Dense(output_length, activation=\"softmax\")(x) # Layer Dense\n",
        "model  = Model(i,x)\n",
        "\n",
        "# Compiling the model (Kompilasi Model)\n",
        "model.compile(loss=\"sparse_categorical_crossentropy\", optimizer='adam', metrics=['accuracy'])"
      ],
      "metadata": {
        "id": "2XBG3_reh2KY"
      },
      "id": "2XBG3_reh2KY",
      "execution_count": null,
      "outputs": []
    },
    {
      "cell_type": "code",
      "source": [
        "# Visualization Plot Architecture Model (Visualisasi Plot Arsitektur Model)\n",
        "plot_model(model, to_file='/content/drive/MyDrive/Proyek/Natural Language Processing/Chatbot/model_plot.png', show_shapes=True, show_layer_names=True)"
      ],
      "metadata": {
        "colab": {
          "base_uri": "https://localhost:8080/",
          "height": 533
        },
        "id": "SO1blkS7ZzuH",
        "outputId": "54a3db45-2e9a-4f3d-b772-c564c692c23b"
      },
      "id": "SO1blkS7ZzuH",
      "execution_count": null,
      "outputs": [
        {
          "output_type": "execute_result",
          "data": {
            "text/plain": [
              "<IPython.core.display.Image object>"
            ],
            "image/png": "[encoded data removed]"
          },
          "metadata": {},
          "execution_count": 20
        }
      ]
    },
    {
      "cell_type": "code",
      "source": [
        "model.summary() # Menampilkan Parameter Model"
      ],
      "metadata": {
        "colab": {
          "base_uri": "https://localhost:8080/"
        },
        "id": "4hab_JHoopQI",
        "outputId": "6b19004d-2c82-4641-cf5d-b0c8ddc265b0"
      },
      "id": "4hab_JHoopQI",
      "execution_count": null,
      "outputs": [
        {
          "output_type": "stream",
          "name": "stdout",
          "text": [
            "Model: \"model\"\n",
            "_________________________________________________________________\n",
            " Layer (type)                Output Shape              Param #   \n",
            "=================================================================\n",
            " input_1 (InputLayer)        [(None, 10)]              0         \n",
            "                                                                 \n",
            " embedding (Embedding)       (None, 10, 10)            780       \n",
            "                                                                 \n",
            " lstm (LSTM)                 (None, 10, 10)            840       \n",
            "                                                                 \n",
            " flatten (Flatten)           (None, 100)               0         \n",
            "                                                                 \n",
            " dense (Dense)               (None, 40)                4040      \n",
            "                                                                 \n",
            "=================================================================\n",
            "Total params: 5,660\n",
            "Trainable params: 5,660\n",
            "Non-trainable params: 0\n",
            "_________________________________________________________________\n"
          ]
        }
      ]
    },
    {
      "cell_type": "code",
      "source": [
        "# Training the model (Latih Model Data)\n",
        "train = model.fit(x_train, y_train, epochs=400)"
      ],
      "metadata": {
        "colab": {
          "base_uri": "https://localhost:8080/"
        },
        "id": "AHtOlCb8kGgZ",
        "outputId": "cc723d9a-389a-4abb-cdd0-877c10f643f2"
      },
      "id": "AHtOlCb8kGgZ",
      "execution_count": null,
      "outputs": [
        {
          "output_type": "stream",
          "name": "stdout",
          "text": [
            "Epoch 1/400\n",
            "3/3 [==============================] - 5s 11ms/step - loss: 3.6840 - accuracy: 0.0625\n",
            "Epoch 2/400\n",
            "3/3 [==============================] - 0s 6ms/step - loss: 3.6763 - accuracy: 0.0875\n",
            "Epoch 3/400\n",
            "3/3 [==============================] - 0s 6ms/step - loss: 3.6676 - accuracy: 0.1125\n",
            "Epoch 4/400\n",
            "3/3 [==============================] - 0s 6ms/step - loss: 3.6577 - accuracy: 0.2875\n",
            "Epoch 5/400\n",
            "3/3 [==============================] - 0s 7ms/step - loss: 3.6465 - accuracy: 0.2625\n",
            "Epoch 6/400\n",
            "3/3 [==============================] - 0s 6ms/step - loss: 3.6329 - accuracy: 0.2500\n",
            "Epoch 7/400\n",
            "3/3 [==============================] - 0s 6ms/step - loss: 3.6178 - accuracy: 0.2375\n",
            "Epoch 8/400\n",
            "3/3 [==============================] - 0s 6ms/step - loss: 3.5992 - accuracy: 0.2250\n",
            "Epoch 9/400\n",
            "3/3 [==============================] - 0s 7ms/step - loss: 3.5774 - accuracy: 0.1875\n",
            "Epoch 10/400\n",
            "3/3 [==============================] - 0s 6ms/step - loss: 3.5504 - accuracy: 0.1875\n",
            "Epoch 11/400\n",
            "3/3 [==============================] - 0s 6ms/step - loss: 3.5195 - accuracy: 0.1875\n",
            "Epoch 12/400\n",
            "3/3 [==============================] - 0s 6ms/step - loss: 3.4852 - accuracy: 0.1875\n",
            "Epoch 13/400\n",
            "3/3 [==============================] - 0s 6ms/step - loss: 3.4392 - accuracy: 0.1875\n",
            "Epoch 14/400\n",
            "3/3 [==============================] - 0s 6ms/step - loss: 3.3941 - accuracy: 0.1875\n",
            "Epoch 15/400\n",
            "3/3 [==============================] - 0s 6ms/step - loss: 3.3347 - accuracy: 0.1875\n",
            "Epoch 16/400\n",
            "3/3 [==============================] - 0s 7ms/step - loss: 3.2712 - accuracy: 0.1875\n",
            "Epoch 17/400\n",
            "3/3 [==============================] - 0s 6ms/step - loss: 3.2048 - accuracy: 0.1875\n",
            "Epoch 18/400\n",
            "3/3 [==============================] - 0s 6ms/step - loss: 3.1421 - accuracy: 0.1875\n",
            "Epoch 19/400\n",
            "3/3 [==============================] - 0s 7ms/step - loss: 3.0615 - accuracy: 0.1875\n",
            "Epoch 20/400\n",
            "3/3 [==============================] - 0s 7ms/step - loss: 3.0002 - accuracy: 0.1875\n",
            "Epoch 21/400\n",
            "3/3 [==============================] - 0s 6ms/step - loss: 2.9579 - accuracy: 0.1875\n",
            "Epoch 22/400\n",
            "3/3 [==============================] - 0s 6ms/step - loss: 2.9197 - accuracy: 0.1875\n",
            "Epoch 23/400\n",
            "3/3 [==============================] - 0s 6ms/step - loss: 2.8934 - accuracy: 0.1875\n",
            "Epoch 24/400\n",
            "3/3 [==============================] - 0s 7ms/step - loss: 2.8801 - accuracy: 0.1875\n",
            "Epoch 25/400\n",
            "3/3 [==============================] - 0s 6ms/step - loss: 2.8637 - accuracy: 0.1875\n",
            "Epoch 26/400\n",
            "3/3 [==============================] - 0s 6ms/step - loss: 2.8465 - accuracy: 0.1875\n",
            "Epoch 27/400\n",
            "3/3 [==============================] - 0s 6ms/step - loss: 2.8256 - accuracy: 0.1875\n",
            "Epoch 28/400\n",
            "3/3 [==============================] - 0s 6ms/step - loss: 2.8073 - accuracy: 0.1875\n",
            "Epoch 29/400\n",
            "3/3 [==============================] - 0s 7ms/step - loss: 2.7849 - accuracy: 0.1875\n",
            "Epoch 30/400\n",
            "3/3 [==============================] - 0s 6ms/step - loss: 2.7674 - accuracy: 0.2000\n",
            "Epoch 31/400\n",
            "3/3 [==============================] - 0s 6ms/step - loss: 2.7498 - accuracy: 0.2000\n",
            "Epoch 32/400\n",
            "3/3 [==============================] - 0s 6ms/step - loss: 2.7312 - accuracy: 0.2125\n",
            "Epoch 33/400\n",
            "3/3 [==============================] - 0s 6ms/step - loss: 2.7133 - accuracy: 0.2250\n",
            "Epoch 34/400\n",
            "3/3 [==============================] - 0s 6ms/step - loss: 2.6955 - accuracy: 0.2250\n",
            "Epoch 35/400\n",
            "3/3 [==============================] - 0s 7ms/step - loss: 2.6778 - accuracy: 0.2250\n",
            "Epoch 36/400\n",
            "3/3 [==============================] - 0s 7ms/step - loss: 2.6597 - accuracy: 0.2500\n",
            "Epoch 37/400\n",
            "3/3 [==============================] - 0s 6ms/step - loss: 2.6423 - accuracy: 0.2500\n",
            "Epoch 38/400\n",
            "3/3 [==============================] - 0s 6ms/step - loss: 2.6229 - accuracy: 0.2750\n",
            "Epoch 39/400\n",
            "3/3 [==============================] - 0s 6ms/step - loss: 2.6052 - accuracy: 0.2625\n",
            "Epoch 40/400\n",
            "3/3 [==============================] - 0s 6ms/step - loss: 2.5870 - accuracy: 0.2625\n",
            "Epoch 41/400\n",
            "3/3 [==============================] - 0s 8ms/step - loss: 2.5696 - accuracy: 0.2750\n",
            "Epoch 42/400\n",
            "3/3 [==============================] - 0s 8ms/step - loss: 2.5511 - accuracy: 0.2875\n",
            "Epoch 43/400\n",
            "3/3 [==============================] - 0s 7ms/step - loss: 2.5327 - accuracy: 0.2875\n",
            "Epoch 44/400\n",
            "3/3 [==============================] - 0s 6ms/step - loss: 2.5143 - accuracy: 0.2875\n",
            "Epoch 45/400\n",
            "3/3 [==============================] - 0s 6ms/step - loss: 2.4958 - accuracy: 0.2875\n",
            "Epoch 46/400\n",
            "3/3 [==============================] - 0s 6ms/step - loss: 2.4786 - accuracy: 0.2875\n",
            "Epoch 47/400\n",
            "3/3 [==============================] - 0s 6ms/step - loss: 2.4607 - accuracy: 0.2875\n",
            "Epoch 48/400\n",
            "3/3 [==============================] - 0s 7ms/step - loss: 2.4432 - accuracy: 0.3000\n",
            "Epoch 49/400\n",
            "3/3 [==============================] - 0s 7ms/step - loss: 2.4259 - accuracy: 0.3000\n",
            "Epoch 50/400\n",
            "3/3 [==============================] - 0s 7ms/step - loss: 2.4079 - accuracy: 0.3125\n",
            "Epoch 51/400\n",
            "3/3 [==============================] - 0s 7ms/step - loss: 2.3901 - accuracy: 0.3000\n",
            "Epoch 52/400\n",
            "3/3 [==============================] - 0s 7ms/step - loss: 2.3725 - accuracy: 0.3000\n",
            "Epoch 53/400\n",
            "3/3 [==============================] - 0s 6ms/step - loss: 2.3541 - accuracy: 0.3000\n",
            "Epoch 54/400\n",
            "3/3 [==============================] - 0s 6ms/step - loss: 2.3386 - accuracy: 0.3000\n",
            "Epoch 55/400\n",
            "3/3 [==============================] - 0s 6ms/step - loss: 2.3223 - accuracy: 0.3000\n",
            "Epoch 56/400\n",
            "3/3 [==============================] - 0s 9ms/step - loss: 2.3046 - accuracy: 0.3000\n",
            "Epoch 57/400\n",
            "3/3 [==============================] - 0s 7ms/step - loss: 2.2874 - accuracy: 0.3000\n",
            "Epoch 58/400\n",
            "3/3 [==============================] - 0s 7ms/step - loss: 2.2717 - accuracy: 0.3000\n",
            "Epoch 59/400\n",
            "3/3 [==============================] - 0s 7ms/step - loss: 2.2553 - accuracy: 0.3125\n",
            "Epoch 60/400\n",
            "3/3 [==============================] - 0s 7ms/step - loss: 2.2400 - accuracy: 0.3250\n",
            "Epoch 61/400\n",
            "3/3 [==============================] - 0s 6ms/step - loss: 2.2244 - accuracy: 0.3375\n",
            "Epoch 62/400\n",
            "3/3 [==============================] - 0s 6ms/step - loss: 2.2097 - accuracy: 0.3500\n",
            "Epoch 63/400\n",
            "3/3 [==============================] - 0s 6ms/step - loss: 2.1940 - accuracy: 0.3625\n",
            "Epoch 64/400\n",
            "3/3 [==============================] - 0s 7ms/step - loss: 2.1793 - accuracy: 0.3625\n",
            "Epoch 65/400\n",
            "3/3 [==============================] - 0s 7ms/step - loss: 2.1640 - accuracy: 0.3625\n",
            "Epoch 66/400\n",
            "3/3 [==============================] - 0s 6ms/step - loss: 2.1498 - accuracy: 0.3625\n",
            "Epoch 67/400\n",
            "3/3 [==============================] - 0s 7ms/step - loss: 2.1351 - accuracy: 0.3625\n",
            "Epoch 68/400\n",
            "3/3 [==============================] - 0s 6ms/step - loss: 2.1208 - accuracy: 0.3625\n",
            "Epoch 69/400\n",
            "3/3 [==============================] - 0s 8ms/step - loss: 2.1073 - accuracy: 0.3625\n",
            "Epoch 70/400\n",
            "3/3 [==============================] - 0s 6ms/step - loss: 2.0925 - accuracy: 0.3750\n",
            "Epoch 71/400\n",
            "3/3 [==============================] - 0s 6ms/step - loss: 2.0798 - accuracy: 0.3625\n",
            "Epoch 72/400\n",
            "3/3 [==============================] - 0s 6ms/step - loss: 2.0656 - accuracy: 0.3625\n",
            "Epoch 73/400\n",
            "3/3 [==============================] - 0s 7ms/step - loss: 2.0523 - accuracy: 0.3625\n",
            "Epoch 74/400\n",
            "3/3 [==============================] - 0s 6ms/step - loss: 2.0406 - accuracy: 0.3625\n",
            "Epoch 75/400\n",
            "3/3 [==============================] - 0s 6ms/step - loss: 2.0270 - accuracy: 0.3500\n",
            "Epoch 76/400\n",
            "3/3 [==============================] - 0s 6ms/step - loss: 2.0145 - accuracy: 0.3500\n",
            "Epoch 77/400\n",
            "3/3 [==============================] - 0s 8ms/step - loss: 2.0023 - accuracy: 0.3500\n",
            "Epoch 78/400\n",
            "3/3 [==============================] - 0s 6ms/step - loss: 1.9891 - accuracy: 0.3500\n",
            "Epoch 79/400\n",
            "3/3 [==============================] - 0s 7ms/step - loss: 1.9771 - accuracy: 0.3625\n",
            "Epoch 80/400\n",
            "3/3 [==============================] - 0s 9ms/step - loss: 1.9645 - accuracy: 0.3500\n",
            "Epoch 81/400\n",
            "3/3 [==============================] - 0s 7ms/step - loss: 1.9528 - accuracy: 0.3500\n",
            "Epoch 82/400\n",
            "3/3 [==============================] - 0s 7ms/step - loss: 1.9412 - accuracy: 0.3500\n",
            "Epoch 83/400\n",
            "3/3 [==============================] - 0s 7ms/step - loss: 1.9309 - accuracy: 0.3500\n",
            "Epoch 84/400\n",
            "3/3 [==============================] - 0s 6ms/step - loss: 1.9177 - accuracy: 0.3500\n",
            "Epoch 85/400\n",
            "3/3 [==============================] - 0s 7ms/step - loss: 1.9066 - accuracy: 0.3500\n",
            "Epoch 86/400\n",
            "3/3 [==============================] - 0s 7ms/step - loss: 1.8942 - accuracy: 0.3500\n",
            "Epoch 87/400\n",
            "3/3 [==============================] - 0s 7ms/step - loss: 1.8832 - accuracy: 0.3500\n",
            "Epoch 88/400\n",
            "3/3 [==============================] - 0s 7ms/step - loss: 1.8712 - accuracy: 0.3625\n",
            "Epoch 89/400\n",
            "3/3 [==============================] - 0s 8ms/step - loss: 1.8607 - accuracy: 0.3625\n",
            "Epoch 90/400\n",
            "3/3 [==============================] - 0s 6ms/step - loss: 1.8505 - accuracy: 0.3750\n",
            "Epoch 91/400\n",
            "3/3 [==============================] - 0s 6ms/step - loss: 1.8422 - accuracy: 0.3750\n",
            "Epoch 92/400\n",
            "3/3 [==============================] - 0s 6ms/step - loss: 1.8307 - accuracy: 0.3750\n",
            "Epoch 93/400\n",
            "3/3 [==============================] - 0s 6ms/step - loss: 1.8194 - accuracy: 0.3875\n",
            "Epoch 94/400\n",
            "3/3 [==============================] - 0s 6ms/step - loss: 1.8080 - accuracy: 0.3875\n",
            "Epoch 95/400\n",
            "3/3 [==============================] - 0s 7ms/step - loss: 1.7982 - accuracy: 0.3750\n",
            "Epoch 96/400\n",
            "3/3 [==============================] - 0s 7ms/step - loss: 1.7876 - accuracy: 0.4125\n",
            "Epoch 97/400\n",
            "3/3 [==============================] - 0s 7ms/step - loss: 1.7773 - accuracy: 0.4125\n",
            "Epoch 98/400\n",
            "3/3 [==============================] - 0s 7ms/step - loss: 1.7678 - accuracy: 0.4125\n",
            "Epoch 99/400\n",
            "3/3 [==============================] - 0s 7ms/step - loss: 1.7583 - accuracy: 0.4125\n",
            "Epoch 100/400\n",
            "3/3 [==============================] - 0s 7ms/step - loss: 1.7478 - accuracy: 0.4125\n",
            "Epoch 101/400\n",
            "3/3 [==============================] - 0s 6ms/step - loss: 1.7382 - accuracy: 0.4125\n",
            "Epoch 102/400\n",
            "3/3 [==============================] - 0s 7ms/step - loss: 1.7282 - accuracy: 0.4500\n",
            "Epoch 103/400\n",
            "3/3 [==============================] - 0s 6ms/step - loss: 1.7185 - accuracy: 0.4625\n",
            "Epoch 104/400\n",
            "3/3 [==============================] - 0s 6ms/step - loss: 1.7076 - accuracy: 0.4625\n",
            "Epoch 105/400\n",
            "3/3 [==============================] - 0s 6ms/step - loss: 1.7000 - accuracy: 0.4500\n",
            "Epoch 106/400\n",
            "3/3 [==============================] - 0s 7ms/step - loss: 1.6885 - accuracy: 0.4625\n",
            "Epoch 107/400\n",
            "3/3 [==============================] - 0s 6ms/step - loss: 1.6791 - accuracy: 0.4625\n",
            "Epoch 108/400\n",
            "3/3 [==============================] - 0s 7ms/step - loss: 1.6707 - accuracy: 0.4625\n",
            "Epoch 109/400\n",
            "3/3 [==============================] - 0s 6ms/step - loss: 1.6602 - accuracy: 0.4500\n",
            "Epoch 110/400\n",
            "3/3 [==============================] - 0s 7ms/step - loss: 1.6486 - accuracy: 0.4625\n",
            "Epoch 111/400\n",
            "3/3 [==============================] - 0s 6ms/step - loss: 1.6390 - accuracy: 0.4500\n",
            "Epoch 112/400\n",
            "3/3 [==============================] - 0s 7ms/step - loss: 1.6303 - accuracy: 0.4625\n",
            "Epoch 113/400\n",
            "3/3 [==============================] - 0s 7ms/step - loss: 1.6210 - accuracy: 0.5000\n",
            "Epoch 114/400\n",
            "3/3 [==============================] - 0s 7ms/step - loss: 1.6107 - accuracy: 0.5250\n",
            "Epoch 115/400\n",
            "3/3 [==============================] - 0s 7ms/step - loss: 1.6018 - accuracy: 0.5375\n",
            "Epoch 116/400\n",
            "3/3 [==============================] - 0s 7ms/step - loss: 1.5941 - accuracy: 0.5500\n",
            "Epoch 117/400\n",
            "3/3 [==============================] - 0s 6ms/step - loss: 1.5819 - accuracy: 0.5500\n",
            "Epoch 118/400\n",
            "3/3 [==============================] - 0s 8ms/step - loss: 1.5727 - accuracy: 0.5500\n",
            "Epoch 119/400\n",
            "3/3 [==============================] - 0s 6ms/step - loss: 1.5644 - accuracy: 0.5500\n",
            "Epoch 120/400\n",
            "3/3 [==============================] - 0s 7ms/step - loss: 1.5532 - accuracy: 0.5250\n",
            "Epoch 121/400\n",
            "3/3 [==============================] - 0s 7ms/step - loss: 1.5431 - accuracy: 0.5250\n",
            "Epoch 122/400\n",
            "3/3 [==============================] - 0s 6ms/step - loss: 1.5330 - accuracy: 0.5250\n",
            "Epoch 123/400\n",
            "3/3 [==============================] - 0s 7ms/step - loss: 1.5240 - accuracy: 0.5375\n",
            "Epoch 124/400\n",
            "3/3 [==============================] - 0s 6ms/step - loss: 1.5145 - accuracy: 0.5250\n",
            "Epoch 125/400\n",
            "3/3 [==============================] - 0s 7ms/step - loss: 1.5041 - accuracy: 0.5250\n",
            "Epoch 126/400\n",
            "3/3 [==============================] - 0s 6ms/step - loss: 1.4941 - accuracy: 0.5375\n",
            "Epoch 127/400\n",
            "3/3 [==============================] - 0s 7ms/step - loss: 1.4850 - accuracy: 0.5500\n",
            "Epoch 128/400\n",
            "3/3 [==============================] - 0s 7ms/step - loss: 1.4754 - accuracy: 0.5500\n",
            "Epoch 129/400\n",
            "3/3 [==============================] - 0s 7ms/step - loss: 1.4654 - accuracy: 0.5500\n",
            "Epoch 130/400\n",
            "3/3 [==============================] - 0s 6ms/step - loss: 1.4569 - accuracy: 0.5625\n",
            "Epoch 131/400\n",
            "3/3 [==============================] - 0s 7ms/step - loss: 1.4462 - accuracy: 0.5625\n",
            "Epoch 132/400\n",
            "3/3 [==============================] - 0s 6ms/step - loss: 1.4363 - accuracy: 0.5625\n",
            "Epoch 133/400\n",
            "3/3 [==============================] - 0s 10ms/step - loss: 1.4267 - accuracy: 0.5500\n",
            "Epoch 134/400\n",
            "3/3 [==============================] - 0s 8ms/step - loss: 1.4181 - accuracy: 0.5750\n",
            "Epoch 135/400\n",
            "3/3 [==============================] - 0s 7ms/step - loss: 1.4095 - accuracy: 0.6125\n",
            "Epoch 136/400\n",
            "3/3 [==============================] - 0s 6ms/step - loss: 1.3987 - accuracy: 0.6125\n",
            "Epoch 137/400\n",
            "3/3 [==============================] - 0s 7ms/step - loss: 1.3894 - accuracy: 0.6125\n",
            "Epoch 138/400\n",
            "3/3 [==============================] - 0s 7ms/step - loss: 1.3797 - accuracy: 0.6000\n",
            "Epoch 139/400\n",
            "3/3 [==============================] - 0s 7ms/step - loss: 1.3722 - accuracy: 0.6125\n",
            "Epoch 140/400\n",
            "3/3 [==============================] - 0s 7ms/step - loss: 1.3634 - accuracy: 0.6250\n",
            "Epoch 141/400\n",
            "3/3 [==============================] - 0s 7ms/step - loss: 1.3539 - accuracy: 0.6125\n",
            "Epoch 142/400\n",
            "3/3 [==============================] - 0s 6ms/step - loss: 1.3443 - accuracy: 0.6125\n",
            "Epoch 143/400\n",
            "3/3 [==============================] - 0s 7ms/step - loss: 1.3338 - accuracy: 0.6125\n",
            "Epoch 144/400\n",
            "3/3 [==============================] - 0s 6ms/step - loss: 1.3245 - accuracy: 0.6125\n",
            "Epoch 145/400\n",
            "3/3 [==============================] - 0s 7ms/step - loss: 1.3147 - accuracy: 0.6125\n",
            "Epoch 146/400\n",
            "3/3 [==============================] - 0s 8ms/step - loss: 1.3064 - accuracy: 0.6125\n",
            "Epoch 147/400\n",
            "3/3 [==============================] - 0s 6ms/step - loss: 1.2970 - accuracy: 0.6125\n",
            "Epoch 148/400\n",
            "3/3 [==============================] - 0s 6ms/step - loss: 1.2867 - accuracy: 0.6375\n",
            "Epoch 149/400\n",
            "3/3 [==============================] - 0s 6ms/step - loss: 1.2773 - accuracy: 0.6250\n",
            "Epoch 150/400\n",
            "3/3 [==============================] - 0s 6ms/step - loss: 1.2674 - accuracy: 0.6250\n",
            "Epoch 151/400\n",
            "3/3 [==============================] - 0s 6ms/step - loss: 1.2587 - accuracy: 0.6375\n",
            "Epoch 152/400\n",
            "3/3 [==============================] - 0s 6ms/step - loss: 1.2503 - accuracy: 0.6250\n",
            "Epoch 153/400\n",
            "3/3 [==============================] - 0s 7ms/step - loss: 1.2410 - accuracy: 0.6375\n",
            "Epoch 154/400\n",
            "3/3 [==============================] - 0s 6ms/step - loss: 1.2324 - accuracy: 0.6375\n",
            "Epoch 155/400\n",
            "3/3 [==============================] - 0s 9ms/step - loss: 1.2227 - accuracy: 0.6125\n",
            "Epoch 156/400\n",
            "3/3 [==============================] - 0s 7ms/step - loss: 1.2143 - accuracy: 0.6250\n",
            "Epoch 157/400\n",
            "3/3 [==============================] - 0s 7ms/step - loss: 1.2046 - accuracy: 0.6375\n",
            "Epoch 158/400\n",
            "3/3 [==============================] - 0s 7ms/step - loss: 1.1958 - accuracy: 0.6375\n",
            "Epoch 159/400\n",
            "3/3 [==============================] - 0s 7ms/step - loss: 1.1886 - accuracy: 0.6375\n",
            "Epoch 160/400\n",
            "3/3 [==============================] - 0s 7ms/step - loss: 1.1778 - accuracy: 0.6500\n",
            "Epoch 161/400\n",
            "3/3 [==============================] - 0s 7ms/step - loss: 1.1690 - accuracy: 0.6750\n",
            "Epoch 162/400\n",
            "3/3 [==============================] - 0s 7ms/step - loss: 1.1608 - accuracy: 0.6750\n",
            "Epoch 163/400\n",
            "3/3 [==============================] - 0s 6ms/step - loss: 1.1510 - accuracy: 0.6875\n",
            "Epoch 164/400\n",
            "3/3 [==============================] - 0s 7ms/step - loss: 1.1419 - accuracy: 0.7000\n",
            "Epoch 165/400\n",
            "3/3 [==============================] - 0s 7ms/step - loss: 1.1372 - accuracy: 0.7000\n",
            "Epoch 166/400\n",
            "3/3 [==============================] - 0s 6ms/step - loss: 1.1263 - accuracy: 0.7000\n",
            "Epoch 167/400\n",
            "3/3 [==============================] - 0s 7ms/step - loss: 1.1159 - accuracy: 0.7000\n",
            "Epoch 168/400\n",
            "3/3 [==============================] - 0s 7ms/step - loss: 1.1082 - accuracy: 0.7125\n",
            "Epoch 169/400\n",
            "3/3 [==============================] - 0s 6ms/step - loss: 1.0994 - accuracy: 0.7125\n",
            "Epoch 170/400\n",
            "3/3 [==============================] - 0s 6ms/step - loss: 1.0918 - accuracy: 0.7250\n",
            "Epoch 171/400\n",
            "3/3 [==============================] - 0s 7ms/step - loss: 1.0841 - accuracy: 0.7125\n",
            "Epoch 172/400\n",
            "3/3 [==============================] - 0s 7ms/step - loss: 1.0761 - accuracy: 0.7125\n",
            "Epoch 173/400\n",
            "3/3 [==============================] - 0s 7ms/step - loss: 1.0669 - accuracy: 0.7125\n",
            "Epoch 174/400\n",
            "3/3 [==============================] - 0s 7ms/step - loss: 1.0583 - accuracy: 0.7000\n",
            "Epoch 175/400\n",
            "3/3 [==============================] - 0s 8ms/step - loss: 1.0494 - accuracy: 0.7125\n",
            "Epoch 176/400\n",
            "3/3 [==============================] - 0s 8ms/step - loss: 1.0414 - accuracy: 0.7125\n",
            "Epoch 177/400\n",
            "3/3 [==============================] - 0s 7ms/step - loss: 1.0331 - accuracy: 0.7375\n",
            "Epoch 178/400\n",
            "3/3 [==============================] - 0s 7ms/step - loss: 1.0263 - accuracy: 0.7500\n",
            "Epoch 179/400\n",
            "3/3 [==============================] - 0s 7ms/step - loss: 1.0177 - accuracy: 0.7625\n",
            "Epoch 180/400\n",
            "3/3 [==============================] - 0s 6ms/step - loss: 1.0107 - accuracy: 0.7625\n",
            "Epoch 181/400\n",
            "3/3 [==============================] - 0s 7ms/step - loss: 1.0028 - accuracy: 0.7625\n",
            "Epoch 182/400\n",
            "3/3 [==============================] - 0s 7ms/step - loss: 0.9946 - accuracy: 0.7625\n",
            "Epoch 183/400\n",
            "3/3 [==============================] - 0s 7ms/step - loss: 0.9874 - accuracy: 0.7500\n",
            "Epoch 184/400\n",
            "3/3 [==============================] - 0s 6ms/step - loss: 0.9807 - accuracy: 0.8000\n",
            "Epoch 185/400\n",
            "3/3 [==============================] - 0s 8ms/step - loss: 0.9723 - accuracy: 0.8000\n",
            "Epoch 186/400\n",
            "3/3 [==============================] - 0s 7ms/step - loss: 0.9640 - accuracy: 0.7875\n",
            "Epoch 187/400\n",
            "3/3 [==============================] - 0s 6ms/step - loss: 0.9563 - accuracy: 0.7750\n",
            "Epoch 188/400\n",
            "3/3 [==============================] - 0s 6ms/step - loss: 0.9493 - accuracy: 0.7625\n",
            "Epoch 189/400\n",
            "3/3 [==============================] - 0s 8ms/step - loss: 0.9422 - accuracy: 0.7750\n",
            "Epoch 190/400\n",
            "3/3 [==============================] - 0s 6ms/step - loss: 0.9349 - accuracy: 0.8125\n",
            "Epoch 191/400\n",
            "3/3 [==============================] - 0s 7ms/step - loss: 0.9279 - accuracy: 0.8250\n",
            "Epoch 192/400\n",
            "3/3 [==============================] - 0s 7ms/step - loss: 0.9201 - accuracy: 0.8375\n",
            "Epoch 193/400\n",
            "3/3 [==============================] - 0s 9ms/step - loss: 0.9128 - accuracy: 0.8500\n",
            "Epoch 194/400\n",
            "3/3 [==============================] - 0s 7ms/step - loss: 0.9065 - accuracy: 0.8375\n",
            "Epoch 195/400\n",
            "3/3 [==============================] - 0s 6ms/step - loss: 0.8988 - accuracy: 0.8125\n",
            "Epoch 196/400\n",
            "3/3 [==============================] - 0s 8ms/step - loss: 0.8916 - accuracy: 0.8000\n",
            "Epoch 197/400\n",
            "3/3 [==============================] - 0s 7ms/step - loss: 0.8854 - accuracy: 0.8250\n",
            "Epoch 198/400\n",
            "3/3 [==============================] - 0s 8ms/step - loss: 0.8782 - accuracy: 0.8375\n",
            "Epoch 199/400\n",
            "3/3 [==============================] - 0s 6ms/step - loss: 0.8721 - accuracy: 0.8125\n",
            "Epoch 200/400\n",
            "3/3 [==============================] - 0s 7ms/step - loss: 0.8666 - accuracy: 0.8125\n",
            "Epoch 201/400\n",
            "3/3 [==============================] - 0s 7ms/step - loss: 0.8592 - accuracy: 0.8000\n",
            "Epoch 202/400\n",
            "3/3 [==============================] - 0s 7ms/step - loss: 0.8533 - accuracy: 0.8000\n",
            "Epoch 203/400\n",
            "3/3 [==============================] - 0s 7ms/step - loss: 0.8460 - accuracy: 0.8125\n",
            "Epoch 204/400\n",
            "3/3 [==============================] - 0s 6ms/step - loss: 0.8403 - accuracy: 0.8250\n",
            "Epoch 205/400\n",
            "3/3 [==============================] - 0s 8ms/step - loss: 0.8339 - accuracy: 0.8250\n",
            "Epoch 206/400\n",
            "3/3 [==============================] - 0s 6ms/step - loss: 0.8276 - accuracy: 0.8250\n",
            "Epoch 207/400\n",
            "3/3 [==============================] - 0s 7ms/step - loss: 0.8217 - accuracy: 0.8500\n",
            "Epoch 208/400\n",
            "3/3 [==============================] - 0s 6ms/step - loss: 0.8157 - accuracy: 0.8750\n",
            "Epoch 209/400\n",
            "3/3 [==============================] - 0s 9ms/step - loss: 0.8094 - accuracy: 0.8500\n",
            "Epoch 210/400\n",
            "3/3 [==============================] - 0s 6ms/step - loss: 0.8040 - accuracy: 0.8750\n",
            "Epoch 211/400\n",
            "3/3 [==============================] - 0s 7ms/step - loss: 0.7995 - accuracy: 0.8875\n",
            "Epoch 212/400\n",
            "3/3 [==============================] - 0s 6ms/step - loss: 0.7929 - accuracy: 0.8750\n",
            "Epoch 213/400\n",
            "3/3 [==============================] - 0s 7ms/step - loss: 0.7870 - accuracy: 0.8625\n",
            "Epoch 214/400\n",
            "3/3 [==============================] - 0s 7ms/step - loss: 0.7824 - accuracy: 0.8625\n",
            "Epoch 215/400\n",
            "3/3 [==============================] - 0s 7ms/step - loss: 0.7770 - accuracy: 0.8500\n",
            "Epoch 216/400\n",
            "3/3 [==============================] - 0s 8ms/step - loss: 0.7711 - accuracy: 0.8500\n",
            "Epoch 217/400\n",
            "3/3 [==============================] - 0s 7ms/step - loss: 0.7663 - accuracy: 0.8625\n",
            "Epoch 218/400\n",
            "3/3 [==============================] - 0s 7ms/step - loss: 0.7603 - accuracy: 0.8500\n",
            "Epoch 219/400\n",
            "3/3 [==============================] - 0s 11ms/step - loss: 0.7558 - accuracy: 0.8375\n",
            "Epoch 220/400\n",
            "3/3 [==============================] - 0s 8ms/step - loss: 0.7501 - accuracy: 0.8625\n",
            "Epoch 221/400\n",
            "3/3 [==============================] - 0s 8ms/step - loss: 0.7447 - accuracy: 0.8625\n",
            "Epoch 222/400\n",
            "3/3 [==============================] - 0s 9ms/step - loss: 0.7391 - accuracy: 0.8875\n",
            "Epoch 223/400\n",
            "3/3 [==============================] - 0s 7ms/step - loss: 0.7354 - accuracy: 0.8875\n",
            "Epoch 224/400\n",
            "3/3 [==============================] - 0s 7ms/step - loss: 0.7300 - accuracy: 0.8375\n",
            "Epoch 225/400\n",
            "3/3 [==============================] - 0s 7ms/step - loss: 0.7249 - accuracy: 0.8375\n",
            "Epoch 226/400\n",
            "3/3 [==============================] - 0s 6ms/step - loss: 0.7209 - accuracy: 0.8625\n",
            "Epoch 227/400\n",
            "3/3 [==============================] - 0s 7ms/step - loss: 0.7156 - accuracy: 0.8875\n",
            "Epoch 228/400\n",
            "3/3 [==============================] - 0s 8ms/step - loss: 0.7112 - accuracy: 0.8625\n",
            "Epoch 229/400\n",
            "3/3 [==============================] - 0s 9ms/step - loss: 0.7067 - accuracy: 0.8625\n",
            "Epoch 230/400\n",
            "3/3 [==============================] - 0s 7ms/step - loss: 0.7012 - accuracy: 0.8750\n",
            "Epoch 231/400\n",
            "3/3 [==============================] - 0s 7ms/step - loss: 0.6963 - accuracy: 0.9000\n",
            "Epoch 232/400\n",
            "3/3 [==============================] - 0s 7ms/step - loss: 0.6914 - accuracy: 0.9000\n",
            "Epoch 233/400\n",
            "3/3 [==============================] - 0s 7ms/step - loss: 0.6871 - accuracy: 0.9000\n",
            "Epoch 234/400\n",
            "3/3 [==============================] - 0s 7ms/step - loss: 0.6832 - accuracy: 0.9125\n",
            "Epoch 235/400\n",
            "3/3 [==============================] - 0s 7ms/step - loss: 0.6802 - accuracy: 0.9250\n",
            "Epoch 236/400\n",
            "3/3 [==============================] - 0s 8ms/step - loss: 0.6746 - accuracy: 0.9250\n",
            "Epoch 237/400\n",
            "3/3 [==============================] - 0s 7ms/step - loss: 0.6704 - accuracy: 0.9250\n",
            "Epoch 238/400\n",
            "3/3 [==============================] - 0s 7ms/step - loss: 0.6657 - accuracy: 0.9250\n",
            "Epoch 239/400\n",
            "3/3 [==============================] - 0s 7ms/step - loss: 0.6606 - accuracy: 0.9125\n",
            "Epoch 240/400\n",
            "3/3 [==============================] - 0s 7ms/step - loss: 0.6574 - accuracy: 0.9125\n",
            "Epoch 241/400\n",
            "3/3 [==============================] - 0s 7ms/step - loss: 0.6524 - accuracy: 0.9125\n",
            "Epoch 242/400\n",
            "3/3 [==============================] - 0s 6ms/step - loss: 0.6478 - accuracy: 0.9125\n",
            "Epoch 243/400\n",
            "3/3 [==============================] - 0s 7ms/step - loss: 0.6435 - accuracy: 0.9125\n",
            "Epoch 244/400\n",
            "3/3 [==============================] - 0s 9ms/step - loss: 0.6393 - accuracy: 0.9125\n",
            "Epoch 245/400\n",
            "3/3 [==============================] - 0s 7ms/step - loss: 0.6356 - accuracy: 0.9000\n",
            "Epoch 246/400\n",
            "3/3 [==============================] - 0s 8ms/step - loss: 0.6320 - accuracy: 0.8875\n",
            "Epoch 247/400\n",
            "3/3 [==============================] - 0s 7ms/step - loss: 0.6277 - accuracy: 0.8875\n",
            "Epoch 248/400\n",
            "3/3 [==============================] - 0s 7ms/step - loss: 0.6236 - accuracy: 0.8750\n",
            "Epoch 249/400\n",
            "3/3 [==============================] - 0s 7ms/step - loss: 0.6192 - accuracy: 0.9125\n",
            "Epoch 250/400\n",
            "3/3 [==============================] - 0s 7ms/step - loss: 0.6150 - accuracy: 0.9250\n",
            "Epoch 251/400\n",
            "3/3 [==============================] - 0s 7ms/step - loss: 0.6115 - accuracy: 0.9375\n",
            "Epoch 252/400\n",
            "3/3 [==============================] - 0s 7ms/step - loss: 0.6086 - accuracy: 0.9375\n",
            "Epoch 253/400\n",
            "3/3 [==============================] - 0s 6ms/step - loss: 0.6048 - accuracy: 0.9375\n",
            "Epoch 254/400\n",
            "3/3 [==============================] - 0s 7ms/step - loss: 0.6015 - accuracy: 0.9375\n",
            "Epoch 255/400\n",
            "3/3 [==============================] - 0s 7ms/step - loss: 0.5977 - accuracy: 0.9500\n",
            "Epoch 256/400\n",
            "3/3 [==============================] - 0s 8ms/step - loss: 0.5931 - accuracy: 0.9500\n",
            "Epoch 257/400\n",
            "3/3 [==============================] - 0s 7ms/step - loss: 0.5894 - accuracy: 0.9500\n",
            "Epoch 258/400\n",
            "3/3 [==============================] - 0s 7ms/step - loss: 0.5854 - accuracy: 0.9375\n",
            "Epoch 259/400\n",
            "3/3 [==============================] - 0s 11ms/step - loss: 0.5820 - accuracy: 0.9375\n",
            "Epoch 260/400\n",
            "3/3 [==============================] - 0s 7ms/step - loss: 0.5781 - accuracy: 0.9500\n",
            "Epoch 261/400\n",
            "3/3 [==============================] - 0s 6ms/step - loss: 0.5746 - accuracy: 0.9375\n",
            "Epoch 262/400\n",
            "3/3 [==============================] - 0s 7ms/step - loss: 0.5697 - accuracy: 0.9375\n",
            "Epoch 263/400\n",
            "3/3 [==============================] - 0s 7ms/step - loss: 0.5666 - accuracy: 0.9375\n",
            "Epoch 264/400\n",
            "3/3 [==============================] - 0s 7ms/step - loss: 0.5638 - accuracy: 0.9500\n",
            "Epoch 265/400\n",
            "3/3 [==============================] - 0s 9ms/step - loss: 0.5595 - accuracy: 0.9500\n",
            "Epoch 266/400\n",
            "3/3 [==============================] - 0s 8ms/step - loss: 0.5563 - accuracy: 0.9500\n",
            "Epoch 267/400\n",
            "3/3 [==============================] - 0s 7ms/step - loss: 0.5517 - accuracy: 0.9500\n",
            "Epoch 268/400\n",
            "3/3 [==============================] - 0s 7ms/step - loss: 0.5483 - accuracy: 0.9500\n",
            "Epoch 269/400\n",
            "3/3 [==============================] - 0s 9ms/step - loss: 0.5453 - accuracy: 0.9500\n",
            "Epoch 270/400\n",
            "3/3 [==============================] - 0s 8ms/step - loss: 0.5431 - accuracy: 0.9625\n",
            "Epoch 271/400\n",
            "3/3 [==============================] - 0s 8ms/step - loss: 0.5393 - accuracy: 0.9625\n",
            "Epoch 272/400\n",
            "3/3 [==============================] - 0s 8ms/step - loss: 0.5353 - accuracy: 0.9375\n",
            "Epoch 273/400\n",
            "3/3 [==============================] - 0s 11ms/step - loss: 0.5323 - accuracy: 0.9375\n",
            "Epoch 274/400\n",
            "3/3 [==============================] - 0s 8ms/step - loss: 0.5290 - accuracy: 0.9375\n",
            "Epoch 275/400\n",
            "3/3 [==============================] - 0s 8ms/step - loss: 0.5257 - accuracy: 0.9250\n",
            "Epoch 276/400\n",
            "3/3 [==============================] - 0s 7ms/step - loss: 0.5220 - accuracy: 0.9375\n",
            "Epoch 277/400\n",
            "3/3 [==============================] - 0s 7ms/step - loss: 0.5183 - accuracy: 0.9500\n",
            "Epoch 278/400\n",
            "3/3 [==============================] - 0s 7ms/step - loss: 0.5153 - accuracy: 0.9500\n",
            "Epoch 279/400\n",
            "3/3 [==============================] - 0s 7ms/step - loss: 0.5119 - accuracy: 0.9500\n",
            "Epoch 280/400\n",
            "3/3 [==============================] - 0s 7ms/step - loss: 0.5093 - accuracy: 0.9500\n",
            "Epoch 281/400\n",
            "3/3 [==============================] - 0s 7ms/step - loss: 0.5058 - accuracy: 0.9625\n",
            "Epoch 282/400\n",
            "3/3 [==============================] - 0s 8ms/step - loss: 0.5024 - accuracy: 0.9625\n",
            "Epoch 283/400\n",
            "3/3 [==============================] - 0s 8ms/step - loss: 0.4996 - accuracy: 0.9375\n",
            "Epoch 284/400\n",
            "3/3 [==============================] - 0s 7ms/step - loss: 0.4960 - accuracy: 0.9375\n",
            "Epoch 285/400\n",
            "3/3 [==============================] - 0s 7ms/step - loss: 0.4926 - accuracy: 0.9375\n",
            "Epoch 286/400\n",
            "3/3 [==============================] - 0s 8ms/step - loss: 0.4901 - accuracy: 0.9500\n",
            "Epoch 287/400\n",
            "3/3 [==============================] - 0s 7ms/step - loss: 0.4872 - accuracy: 0.9625\n",
            "Epoch 288/400\n",
            "3/3 [==============================] - 0s 8ms/step - loss: 0.4836 - accuracy: 0.9500\n",
            "Epoch 289/400\n",
            "3/3 [==============================] - 0s 6ms/step - loss: 0.4808 - accuracy: 0.9500\n",
            "Epoch 290/400\n",
            "3/3 [==============================] - 0s 8ms/step - loss: 0.4775 - accuracy: 0.9625\n",
            "Epoch 291/400\n",
            "3/3 [==============================] - 0s 7ms/step - loss: 0.4741 - accuracy: 0.9625\n",
            "Epoch 292/400\n",
            "3/3 [==============================] - 0s 8ms/step - loss: 0.4713 - accuracy: 0.9625\n",
            "Epoch 293/400\n",
            "3/3 [==============================] - 0s 7ms/step - loss: 0.4678 - accuracy: 0.9500\n",
            "Epoch 294/400\n",
            "3/3 [==============================] - 0s 8ms/step - loss: 0.4648 - accuracy: 0.9625\n",
            "Epoch 295/400\n",
            "3/3 [==============================] - 0s 7ms/step - loss: 0.4625 - accuracy: 0.9500\n",
            "Epoch 296/400\n",
            "3/3 [==============================] - 0s 7ms/step - loss: 0.4592 - accuracy: 0.9625\n",
            "Epoch 297/400\n",
            "3/3 [==============================] - 0s 7ms/step - loss: 0.4564 - accuracy: 0.9625\n",
            "Epoch 298/400\n",
            "3/3 [==============================] - 0s 7ms/step - loss: 0.4547 - accuracy: 0.9625\n",
            "Epoch 299/400\n",
            "3/3 [==============================] - 0s 12ms/step - loss: 0.4511 - accuracy: 0.9625\n",
            "Epoch 300/400\n",
            "3/3 [==============================] - 0s 8ms/step - loss: 0.4479 - accuracy: 0.9625\n",
            "Epoch 301/400\n",
            "3/3 [==============================] - 0s 8ms/step - loss: 0.4448 - accuracy: 0.9750\n",
            "Epoch 302/400\n",
            "3/3 [==============================] - 0s 8ms/step - loss: 0.4416 - accuracy: 0.9750\n",
            "Epoch 303/400\n",
            "3/3 [==============================] - 0s 7ms/step - loss: 0.4384 - accuracy: 0.9750\n",
            "Epoch 304/400\n",
            "3/3 [==============================] - 0s 9ms/step - loss: 0.4361 - accuracy: 0.9750\n",
            "Epoch 305/400\n",
            "3/3 [==============================] - 0s 8ms/step - loss: 0.4333 - accuracy: 0.9750\n",
            "Epoch 306/400\n",
            "3/3 [==============================] - 0s 8ms/step - loss: 0.4303 - accuracy: 0.9750\n",
            "Epoch 307/400\n",
            "3/3 [==============================] - 0s 9ms/step - loss: 0.4275 - accuracy: 0.9875\n",
            "Epoch 308/400\n",
            "3/3 [==============================] - 0s 7ms/step - loss: 0.4240 - accuracy: 0.9875\n",
            "Epoch 309/400\n",
            "3/3 [==============================] - 0s 8ms/step - loss: 0.4215 - accuracy: 0.9875\n",
            "Epoch 310/400\n",
            "3/3 [==============================] - 0s 7ms/step - loss: 0.4186 - accuracy: 0.9875\n",
            "Epoch 311/400\n",
            "3/3 [==============================] - 0s 7ms/step - loss: 0.4160 - accuracy: 0.9875\n",
            "Epoch 312/400\n",
            "3/3 [==============================] - 0s 6ms/step - loss: 0.4137 - accuracy: 0.9875\n",
            "Epoch 313/400\n",
            "3/3 [==============================] - 0s 7ms/step - loss: 0.4116 - accuracy: 0.9750\n",
            "Epoch 314/400\n",
            "3/3 [==============================] - 0s 7ms/step - loss: 0.4077 - accuracy: 0.9750\n",
            "Epoch 315/400\n",
            "3/3 [==============================] - 0s 7ms/step - loss: 0.4056 - accuracy: 0.9750\n",
            "Epoch 316/400\n",
            "3/3 [==============================] - 0s 8ms/step - loss: 0.4022 - accuracy: 0.9750\n",
            "Epoch 317/400\n",
            "3/3 [==============================] - 0s 9ms/step - loss: 0.3996 - accuracy: 0.9750\n",
            "Epoch 318/400\n",
            "3/3 [==============================] - 0s 7ms/step - loss: 0.3967 - accuracy: 0.9625\n",
            "Epoch 319/400\n",
            "3/3 [==============================] - 0s 7ms/step - loss: 0.3937 - accuracy: 0.9875\n",
            "Epoch 320/400\n",
            "3/3 [==============================] - 0s 8ms/step - loss: 0.3913 - accuracy: 1.0000\n",
            "Epoch 321/400\n",
            "3/3 [==============================] - 0s 7ms/step - loss: 0.3883 - accuracy: 1.0000\n",
            "Epoch 322/400\n",
            "3/3 [==============================] - 0s 8ms/step - loss: 0.3864 - accuracy: 1.0000\n",
            "Epoch 323/400\n",
            "3/3 [==============================] - 0s 8ms/step - loss: 0.3832 - accuracy: 0.9875\n",
            "Epoch 324/400\n",
            "3/3 [==============================] - 0s 8ms/step - loss: 0.3806 - accuracy: 0.9875\n",
            "Epoch 325/400\n",
            "3/3 [==============================] - 0s 7ms/step - loss: 0.3778 - accuracy: 0.9750\n",
            "Epoch 326/400\n",
            "3/3 [==============================] - 0s 8ms/step - loss: 0.3752 - accuracy: 0.9875\n",
            "Epoch 327/400\n",
            "3/3 [==============================] - 0s 7ms/step - loss: 0.3727 - accuracy: 0.9875\n",
            "Epoch 328/400\n",
            "3/3 [==============================] - 0s 7ms/step - loss: 0.3707 - accuracy: 0.9875\n",
            "Epoch 329/400\n",
            "3/3 [==============================] - 0s 8ms/step - loss: 0.3679 - accuracy: 0.9750\n",
            "Epoch 330/400\n",
            "3/3 [==============================] - 0s 7ms/step - loss: 0.3656 - accuracy: 0.9875\n",
            "Epoch 331/400\n",
            "3/3 [==============================] - 0s 7ms/step - loss: 0.3631 - accuracy: 0.9875\n",
            "Epoch 332/400\n",
            "3/3 [==============================] - 0s 7ms/step - loss: 0.3605 - accuracy: 0.9750\n",
            "Epoch 333/400\n",
            "3/3 [==============================] - 0s 7ms/step - loss: 0.3581 - accuracy: 0.9750\n",
            "Epoch 334/400\n",
            "3/3 [==============================] - 0s 9ms/step - loss: 0.3554 - accuracy: 0.9750\n",
            "Epoch 335/400\n",
            "3/3 [==============================] - 0s 8ms/step - loss: 0.3529 - accuracy: 0.9750\n",
            "Epoch 336/400\n",
            "3/3 [==============================] - 0s 7ms/step - loss: 0.3508 - accuracy: 0.9750\n",
            "Epoch 337/400\n",
            "3/3 [==============================] - 0s 8ms/step - loss: 0.3478 - accuracy: 0.9750\n",
            "Epoch 338/400\n",
            "3/3 [==============================] - 0s 8ms/step - loss: 0.3457 - accuracy: 0.9750\n",
            "Epoch 339/400\n",
            "3/3 [==============================] - 0s 8ms/step - loss: 0.3435 - accuracy: 0.9750\n",
            "Epoch 340/400\n",
            "3/3 [==============================] - 0s 7ms/step - loss: 0.3402 - accuracy: 0.9750\n",
            "Epoch 341/400\n",
            "3/3 [==============================] - 0s 7ms/step - loss: 0.3380 - accuracy: 0.9750\n",
            "Epoch 342/400\n",
            "3/3 [==============================] - 0s 8ms/step - loss: 0.3358 - accuracy: 0.9750\n",
            "Epoch 343/400\n",
            "3/3 [==============================] - 0s 8ms/step - loss: 0.3342 - accuracy: 0.9750\n",
            "Epoch 344/400\n",
            "3/3 [==============================] - 0s 10ms/step - loss: 0.3315 - accuracy: 0.9750\n",
            "Epoch 345/400\n",
            "3/3 [==============================] - 0s 8ms/step - loss: 0.3294 - accuracy: 0.9875\n",
            "Epoch 346/400\n",
            "3/3 [==============================] - 0s 11ms/step - loss: 0.3260 - accuracy: 0.9875\n",
            "Epoch 347/400\n",
            "3/3 [==============================] - 0s 7ms/step - loss: 0.3238 - accuracy: 0.9875\n",
            "Epoch 348/400\n",
            "3/3 [==============================] - 0s 7ms/step - loss: 0.3217 - accuracy: 0.9875\n",
            "Epoch 349/400\n",
            "3/3 [==============================] - 0s 8ms/step - loss: 0.3197 - accuracy: 0.9875\n",
            "Epoch 350/400\n",
            "3/3 [==============================] - 0s 7ms/step - loss: 0.3171 - accuracy: 1.0000\n",
            "Epoch 351/400\n",
            "3/3 [==============================] - 0s 8ms/step - loss: 0.3155 - accuracy: 1.0000\n",
            "Epoch 352/400\n",
            "3/3 [==============================] - 0s 7ms/step - loss: 0.3131 - accuracy: 0.9875\n",
            "Epoch 353/400\n",
            "3/3 [==============================] - 0s 6ms/step - loss: 0.3104 - accuracy: 1.0000\n",
            "Epoch 354/400\n",
            "3/3 [==============================] - 0s 7ms/step - loss: 0.3082 - accuracy: 1.0000\n",
            "Epoch 355/400\n",
            "3/3 [==============================] - 0s 8ms/step - loss: 0.3065 - accuracy: 1.0000\n",
            "Epoch 356/400\n",
            "3/3 [==============================] - 0s 7ms/step - loss: 0.3037 - accuracy: 1.0000\n",
            "Epoch 357/400\n",
            "3/3 [==============================] - 0s 8ms/step - loss: 0.3016 - accuracy: 1.0000\n",
            "Epoch 358/400\n",
            "3/3 [==============================] - 0s 8ms/step - loss: 0.2997 - accuracy: 1.0000\n",
            "Epoch 359/400\n",
            "3/3 [==============================] - 0s 8ms/step - loss: 0.2974 - accuracy: 1.0000\n",
            "Epoch 360/400\n",
            "3/3 [==============================] - 0s 7ms/step - loss: 0.2953 - accuracy: 1.0000\n",
            "Epoch 361/400\n",
            "3/3 [==============================] - 0s 7ms/step - loss: 0.2934 - accuracy: 0.9875\n",
            "Epoch 362/400\n",
            "3/3 [==============================] - 0s 7ms/step - loss: 0.2913 - accuracy: 0.9875\n",
            "Epoch 363/400\n",
            "3/3 [==============================] - 0s 8ms/step - loss: 0.2890 - accuracy: 0.9875\n",
            "Epoch 364/400\n",
            "3/3 [==============================] - 0s 7ms/step - loss: 0.2870 - accuracy: 0.9875\n",
            "Epoch 365/400\n",
            "3/3 [==============================] - 0s 7ms/step - loss: 0.2849 - accuracy: 1.0000\n",
            "Epoch 366/400\n",
            "3/3 [==============================] - 0s 7ms/step - loss: 0.2829 - accuracy: 1.0000\n",
            "Epoch 367/400\n",
            "3/3 [==============================] - 0s 6ms/step - loss: 0.2807 - accuracy: 1.0000\n",
            "Epoch 368/400\n",
            "3/3 [==============================] - 0s 9ms/step - loss: 0.2787 - accuracy: 1.0000\n",
            "Epoch 369/400\n",
            "3/3 [==============================] - 0s 8ms/step - loss: 0.2767 - accuracy: 1.0000\n",
            "Epoch 370/400\n",
            "3/3 [==============================] - 0s 7ms/step - loss: 0.2748 - accuracy: 1.0000\n",
            "Epoch 371/400\n",
            "3/3 [==============================] - 0s 7ms/step - loss: 0.2726 - accuracy: 1.0000\n",
            "Epoch 372/400\n",
            "3/3 [==============================] - 0s 7ms/step - loss: 0.2706 - accuracy: 1.0000\n",
            "Epoch 373/400\n",
            "3/3 [==============================] - 0s 7ms/step - loss: 0.2685 - accuracy: 1.0000\n",
            "Epoch 374/400\n",
            "3/3 [==============================] - 0s 8ms/step - loss: 0.2670 - accuracy: 1.0000\n",
            "Epoch 375/400\n",
            "3/3 [==============================] - 0s 8ms/step - loss: 0.2646 - accuracy: 1.0000\n",
            "Epoch 376/400\n",
            "3/3 [==============================] - 0s 7ms/step - loss: 0.2624 - accuracy: 1.0000\n",
            "Epoch 377/400\n",
            "3/3 [==============================] - 0s 7ms/step - loss: 0.2607 - accuracy: 1.0000\n",
            "Epoch 378/400\n",
            "3/3 [==============================] - 0s 7ms/step - loss: 0.2587 - accuracy: 1.0000\n",
            "Epoch 379/400\n",
            "3/3 [==============================] - 0s 7ms/step - loss: 0.2566 - accuracy: 1.0000\n",
            "Epoch 380/400\n",
            "3/3 [==============================] - 0s 7ms/step - loss: 0.2548 - accuracy: 1.0000\n",
            "Epoch 381/400\n",
            "3/3 [==============================] - 0s 8ms/step - loss: 0.2529 - accuracy: 1.0000\n",
            "Epoch 382/400\n",
            "3/3 [==============================] - 0s 8ms/step - loss: 0.2513 - accuracy: 1.0000\n",
            "Epoch 383/400\n",
            "3/3 [==============================] - 0s 8ms/step - loss: 0.2489 - accuracy: 1.0000\n",
            "Epoch 384/400\n",
            "3/3 [==============================] - 0s 7ms/step - loss: 0.2470 - accuracy: 1.0000\n",
            "Epoch 385/400\n",
            "3/3 [==============================] - 0s 9ms/step - loss: 0.2453 - accuracy: 1.0000\n",
            "Epoch 386/400\n",
            "3/3 [==============================] - 0s 7ms/step - loss: 0.2434 - accuracy: 1.0000\n",
            "Epoch 387/400\n",
            "3/3 [==============================] - 0s 9ms/step - loss: 0.2418 - accuracy: 1.0000\n",
            "Epoch 388/400\n",
            "3/3 [==============================] - 0s 9ms/step - loss: 0.2398 - accuracy: 1.0000\n",
            "Epoch 389/400\n",
            "3/3 [==============================] - 0s 9ms/step - loss: 0.2380 - accuracy: 1.0000\n",
            "Epoch 390/400\n",
            "3/3 [==============================] - 0s 8ms/step - loss: 0.2365 - accuracy: 1.0000\n",
            "Epoch 391/400\n",
            "3/3 [==============================] - 0s 8ms/step - loss: 0.2344 - accuracy: 1.0000\n",
            "Epoch 392/400\n",
            "3/3 [==============================] - 0s 9ms/step - loss: 0.2330 - accuracy: 1.0000\n",
            "Epoch 393/400\n",
            "3/3 [==============================] - 0s 7ms/step - loss: 0.2310 - accuracy: 1.0000\n",
            "Epoch 394/400\n",
            "3/3 [==============================] - 0s 7ms/step - loss: 0.2294 - accuracy: 1.0000\n",
            "Epoch 395/400\n",
            "3/3 [==============================] - 0s 9ms/step - loss: 0.2279 - accuracy: 1.0000\n",
            "Epoch 396/400\n",
            "3/3 [==============================] - 0s 7ms/step - loss: 0.2261 - accuracy: 1.0000\n",
            "Epoch 397/400\n",
            "3/3 [==============================] - 0s 9ms/step - loss: 0.2246 - accuracy: 1.0000\n",
            "Epoch 398/400\n",
            "3/3 [==============================] - 0s 9ms/step - loss: 0.2229 - accuracy: 1.0000\n",
            "Epoch 399/400\n",
            "3/3 [==============================] - 0s 7ms/step - loss: 0.2215 - accuracy: 1.0000\n",
            "Epoch 400/400\n",
            "3/3 [==============================] - 0s 9ms/step - loss: 0.2195 - accuracy: 1.0000\n"
          ]
        }
      ]
    },
    {
      "cell_type": "markdown",
      "source": [
        "# **Model Analysis**\n",
        "\n",
        "Setelah menjalankan model fitting. Selanjutnya adalah analisa model untuk melihat hasil akurasi dari model Neural Network tersebut."
      ],
      "metadata": {
        "id": "BfQP5TaPkGzB"
      },
      "id": "BfQP5TaPkGzB"
    },
    {
      "cell_type": "code",
      "source": [
        "# Plotting model Accuracy and Loss (Visualisasi Plot Hasil Akurasi dan Loss)\n",
        "# Plot Akurasi\n",
        "plt.figure(figsize=(14, 5))\n",
        "plt.subplot(1, 2, 1)\n",
        "plt.plot(train.history['accuracy'],label='Training Set Accuracy')\n",
        "plt.legend(loc='lower right')\n",
        "plt.title('Accuracy')\n",
        "# Plot Loss\n",
        "plt.subplot(1, 2, 2)\n",
        "plt.plot(train.history['loss'],label='Training Set Loss')\n",
        "plt.legend(loc='upper right')\n",
        "plt.title('Loss')\n",
        "plt.show()"
      ],
      "metadata": {
        "colab": {
          "base_uri": "https://localhost:8080/",
          "height": 336
        },
        "id": "FEz3P5djksfa",
        "outputId": "b44cde33-b4b8-4c85-d990-9cf1df5f5a39"
      },
      "id": "FEz3P5djksfa",
      "execution_count": null,
      "outputs": [
        {
          "output_type": "display_data",
          "data": {
            "text/plain": [
              "<Figure size 1008x360 with 2 Axes>"
            ],
            "image/png": "[encoded data removed]"
          },
          "metadata": {
            "needs_background": "light"
          }
        }
      ]
    },
    {
      "cell_type": "markdown",
      "source": [
        "# **Testing Chatbot Dan Tambahkan Suara Pada Chatbot**\n",
        "\n",
        "Setelah mengetahui hasil dari akurasi dan loss pada model yang telah ditetapkan dengan algoritma Neural Network dan LSTM. Maka, tahapan selanjutnya adalah menguji atau testing pada chatbot yang telah dilatih sebelumnya dan melihat apakah sesuai atau tidak pada saat kita masukan teks kalimat pertanyaannya. \n",
        "\n",
        "Pada pengujian ini menggunakan metode input atau masukan sesuai dengan kalimat pertanyaan yang dimasukkan."
      ],
      "metadata": {
        "id": "WcOYpQfuln4T"
      },
      "id": "WcOYpQfuln4T"
    },
    {
      "cell_type": "code",
      "source": [
        "# Membuat Input Chat\n",
        "while True:\n",
        "  texts_p = []\n",
        "  prediction_input = input('Kamu : ')\n",
        "  \n",
        "  # Menghapus punktuasi dan konversi ke huruf kecil\n",
        "  prediction_input = [letters.lower() for letters in prediction_input if letters not in string.punctuation]\n",
        "  prediction_input = ''.join(prediction_input)\n",
        "  texts_p.append(prediction_input)\n",
        "\n",
        "  # Tokenisasi dan Padding\n",
        "  prediction_input = tokenizer.texts_to_sequences(texts_p)\n",
        "  prediction_input = np.array(prediction_input).reshape(-1)\n",
        "  prediction_input = pad_sequences([prediction_input],input_shape)\n",
        "\n",
        "  # Mendapatkan hasil keluaran pada model \n",
        "  output = model.predict(prediction_input)\n",
        "  output = output.argmax()\n",
        "\n",
        "  # Menemukan respon sesuai data tag dan memainkan voice bot\n",
        "  response_tag = le.inverse_transform([output])[0]\n",
        "  print(\"KadekBot : \", random.choice(responses[response_tag]))\n",
        "  tts = gTTS(random.choice(responses[response_tag]), lang='id')\n",
        "  tts.save('/content/drive/MyDrive/Proyek/Natural Language Processing/Chatbot/Model/KadekBot.wav')\n",
        "  time.sleep(0.08)\n",
        "  ipd.display(ipd.Audio('/content/drive/MyDrive/Proyek/Natural Language Processing/Chatbot/Model/KadekBot.wav', autoplay=True))\n",
        "  print(\"=\"*60 + \"\\n\")\n",
        "  if response_tag == \"goodbye\":\n",
        "    break"
      ],
      "metadata": {
        "id": "fao4rG4rlh1D",
        "colab": {
          "base_uri": "https://localhost:8080/",
          "height": 802
        },
        "outputId": "5ba368b2-8e95-40bb-d57f-868cd960c2e0"
      },
      "id": "fao4rG4rlh1D",
      "execution_count": null,
      "outputs": [
        {
          "output_type": "stream",
          "name": "stdout",
          "text": [
            "Kamu : Halo\n",
            "KadekBot :  Hai! Kadekbot di sini. Mau tau informasi tentang apa nih?\n"
          ]
        },
        {
          "output_type": "display_data",
          "data": {
            "text/plain": [
              "<IPython.lib.display.Audio object>"
            ],
            "text/html": [
              "\n",
              "                <audio controls=\"controls\" autoplay=\"autoplay\">\n",
              "                    <source src=\"data:audio/x-wav;base64,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\" type=\"audio/x-wav\" />\n",
              "                    Your browser does not support the audio element.\n",
              "                </audio>\n",
              "              "
            ]
          },
          "metadata": {}
        },
        {
          "output_type": "stream",
          "name": "stdout",
          "text": [
            "============================================================\n",
            "\n",
            "Kamu : Apa itu KadekBot?\n",
            "KadekBot :  KadekBot itu adalah teman informasi kamu tentang Kampus Merdeka!\n"
          ]
        },
        {
          "output_type": "display_data",
          "data": {
            "text/plain": [
              "<IPython.lib.display.Audio object>"
            ],
            "text/html": [
              "\n",
              "                <audio controls=\"controls\" autoplay=\"autoplay\">\n",
              "                    <source src=\"data:audio/x-wav;base64,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\" type=\"audio/x-wav\" />\n",
              "                    Your browser does not support the audio element.\n",
              "                </audio>\n",
              "              "
            ]
          },
          "metadata": {}
        },
        {
          "output_type": "stream",
          "name": "stdout",
          "text": [
            "============================================================\n",
            "\n",
            "Kamu : Siapa penciptamu?\n",
            "KadekBot :  Penciptaku berasal dari seorang mahasiswa yang kreatif, sehingga saya bisa aktif saat ini!\n"
          ]
        },
        {
          "output_type": "display_data",
          "data": {
            "text/plain": [
              "<IPython.lib.display.Audio object>"
            ],
            "text/html": [
              "\n",
              "                <audio controls=\"controls\" autoplay=\"autoplay\">\n",
              "                    <source src=\"data:audio/x-wav;base64,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\" type=\"audio/x-wav\" />\n",
              "                    Your browser does not support the audio element.\n",
              "                </audio>\n",
              "              "
            ]
          },
          "metadata": {}
        },
        {
          "output_type": "stream",
          "name": "stdout",
          "text": [
            "============================================================\n",
            "\n",
            "Kamu : Apa itu Kampus Merdeka?\n",
            "KadekBot :  Kampus Merdeka merupakan kebijakan Menteri Pendidikan dan Kebudayaan Nadiem Makarim yang membebaskan mahasiswa untuk mengikuti kegiatan di luar program studinya selama 1 semester atau setara 20 sks dan paling lama 2 semester atau setara 40 sks.\n"
          ]
        },
        {
          "output_type": "display_data",
          "data": {
            "text/plain": [
              "<IPython.lib.display.Audio object>"
            ],
            "text/html": [
              "\n",
              "                <audio controls=\"controls\" autoplay=\"autoplay\">\n",
              "                    <source src=\"data:audio/x-wav;base64,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\" type=\"audio/x-wav\" />\n",
              "                    Your browser does not support the audio element.\n",
              "                </audio>\n",
              "              "
            ]
          },
          "metadata": {}
        },
        {
          "output_type": "stream",
          "name": "stdout",
          "text": [
            "============================================================\n",
            "\n",
            "Kamu : Terima kasih \n",
            "KadekBot :  Dengan senang hati :)\n"
          ]
        },
        {
          "output_type": "display_data",
          "data": {
            "text/plain": [
              "<IPython.lib.display.Audio object>"
            ],
            "text/html": [
              "\n",
              "                <audio controls=\"controls\" autoplay=\"autoplay\">\n",
              "                    <source src=\"data:audio/x-wav;base64,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\" type=\"audio/x-wav\" />\n",
              "                    Your browser does not support the audio element.\n",
              "                </audio>\n",
              "              "
            ]
          },
          "metadata": {}
        },
        {
          "output_type": "stream",
          "name": "stdout",
          "text": [
            "============================================================\n",
            "\n",
            "Kamu : Bye\n",
            "KadekBot :  Bye!\n"
          ]
        },
        {
          "output_type": "display_data",
          "data": {
            "text/plain": [
              "<IPython.lib.display.Audio object>"
            ],
            "text/html": [
              "\n",
              "                <audio controls=\"controls\" autoplay=\"autoplay\">\n",
              "                    <source src=\"data:audio/x-wav;base64,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\" type=\"audio/x-wav\" />\n",
              "                    Your browser does not support the audio element.\n",
              "                </audio>\n",
              "              "
            ]
          },
          "metadata": {}
        },
        {
          "output_type": "stream",
          "name": "stdout",
          "text": [
            "============================================================\n",
            "\n"
          ]
        }
      ]
    },
    {
      "cell_type": "markdown",
      "source": [
        "# **Save The Model**\n",
        "\n",
        "Setelah pengujian Chatbot telah disesuaikan dengan kalimat dan jawabannya. Maka, model chatbot bisa disimpan dengan format .h5 atau .pkl (pickle) untuk penggunaan aplikasi AI Chatbot dengan website atau sistem Android. "
      ],
      "metadata": {
        "id": "PpFwQ9gWmWtk"
      },
      "id": "PpFwQ9gWmWtk"
    },
    {
      "cell_type": "code",
      "source": [
        "model.save('/content/drive/MyDrive/Proyek/Natural Language Processing/Chatbot/Model/chat_model.h5')\n",
        "\n",
        "print('Model Created Successfully!')"
      ],
      "metadata": {
        "id": "MxdDHujDmaC0",
        "colab": {
          "base_uri": "https://localhost:8080/"
        },
        "outputId": "2b4f8561-4e68-4d53-ca9e-fa2a99f78b8e"
      },
      "id": "MxdDHujDmaC0",
      "execution_count": null,
      "outputs": [
        {
          "output_type": "stream",
          "name": "stdout",
          "text": [
            "Model Created Successfully!\n"
          ]
        }
      ]
    }
  ],
  "metadata": {
    "kernelspec": {
      "display_name": "Python 3 (ipykernel)",
      "language": "python",
      "name": "python3"
    },
    "language_info": {
      "codemirror_mode": {
        "name": "ipython",
        "version": 3
      },
      "file_extension": ".py",
      "mimetype": "text/x-python",
      "name": "python",
      "nbconvert_exporter": "python",
      "pygments_lexer": "ipython3",
      "version": "3.9.7"
    },
    "latex_envs": {
      "LaTeX_envs_menu_present": true,
      "autoclose": false,
      "autocomplete": true,
      "bibliofile": "biblio.bib",
      "cite_by": "apalike",
      "current_citInitial": 1,
      "eqLabelWithNumbers": true,
      "eqNumInitial": 1,
      "hotkeys": {
        "equation": "Ctrl-E",
        "itemize": "Ctrl-I"
      },
      "labels_anchors": false,
      "latex_user_defs": false,
      "report_style_numbering": false,
      "user_envs_cfg": false
    },
    "varInspector": {
      "cols": {
        "lenName": 16,
        "lenType": 16,
        "lenVar": 40
      },
      "kernels_config": {
        "python": {
          "delete_cmd_postfix": "",
          "delete_cmd_prefix": "del ",
          "library": "var_list.py",
          "varRefreshCmd": "print(var_dic_list())"
        },
        "r": {
          "delete_cmd_postfix": ") ",
          "delete_cmd_prefix": "rm(",
          "library": "var_list.r",
          "varRefreshCmd": "cat(var_dic_list()) "
        }
      },
      "types_to_exclude": [
        "module",
        "function",
        "builtin_function_or_method",
        "instance",
        "_Feature"
      ],
      "window_display": false
    },
    "colab": {
      "name": "DL_Chatbot.ipynb",
      "provenance": [],
      "collapsed_sections": [],
      "toc_visible": true,
      "include_colab_link": true
    },
    "gpuClass": "standard"
  },
  "nbformat": 4,
  "nbformat_minor": 5
}